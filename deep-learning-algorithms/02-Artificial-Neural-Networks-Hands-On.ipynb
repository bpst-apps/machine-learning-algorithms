{
 "cells": [
  {
   "cell_type": "markdown",
   "id": "d7c96c61",
   "metadata": {},
   "source": [
    "## Hands-on implementation of neural network from scratch\n",
    "\n",
    "In this notebook, we are going to implement this artificial neural network in Python. Our task is to build a classifier to predict the gender of the given person using ANN. The dataset used for this task consists of information on the physical parameters of the person such as nose width, long hair, forehead height, etc. So using the dataset and ANN we are going to build this binary classifier. \n",
    "\n",
    "The following steps are to be taken to implement the ANN. "
   ]
  },
  {
   "cell_type": "markdown",
   "id": "86b68ec8",
   "metadata": {},
   "source": [
    "#### load and read the data \n",
    "\n",
    "The dataset is stored in a CSV file so by using the Pandas library we are going to load this file into our system and will visualize the first five rows of it. "
   ]
  },
  {
   "cell_type": "code",
   "execution_count": 1,
   "id": "08680b6d",
   "metadata": {},
   "outputs": [
    {
     "data": {
      "text/html": [
       "<div>\n",
       "<style scoped>\n",
       "    .dataframe tbody tr th:only-of-type {\n",
       "        vertical-align: middle;\n",
       "    }\n",
       "\n",
       "    .dataframe tbody tr th {\n",
       "        vertical-align: top;\n",
       "    }\n",
       "\n",
       "    .dataframe thead th {\n",
       "        text-align: right;\n",
       "    }\n",
       "</style>\n",
       "<table border=\"1\" class=\"dataframe\">\n",
       "  <thead>\n",
       "    <tr style=\"text-align: right;\">\n",
       "      <th></th>\n",
       "      <th>long_hair</th>\n",
       "      <th>forehead_width_cm</th>\n",
       "      <th>forehead_height_cm</th>\n",
       "      <th>nose_wide</th>\n",
       "      <th>nose_long</th>\n",
       "      <th>lips_thin</th>\n",
       "      <th>distance_nose_to_lip_long</th>\n",
       "      <th>gender</th>\n",
       "    </tr>\n",
       "  </thead>\n",
       "  <tbody>\n",
       "    <tr>\n",
       "      <th>0</th>\n",
       "      <td>1</td>\n",
       "      <td>11.8</td>\n",
       "      <td>6.1</td>\n",
       "      <td>1</td>\n",
       "      <td>0</td>\n",
       "      <td>1</td>\n",
       "      <td>1</td>\n",
       "      <td>Male</td>\n",
       "    </tr>\n",
       "    <tr>\n",
       "      <th>1</th>\n",
       "      <td>0</td>\n",
       "      <td>14.0</td>\n",
       "      <td>5.4</td>\n",
       "      <td>0</td>\n",
       "      <td>0</td>\n",
       "      <td>1</td>\n",
       "      <td>0</td>\n",
       "      <td>Female</td>\n",
       "    </tr>\n",
       "    <tr>\n",
       "      <th>2</th>\n",
       "      <td>0</td>\n",
       "      <td>11.8</td>\n",
       "      <td>6.3</td>\n",
       "      <td>1</td>\n",
       "      <td>1</td>\n",
       "      <td>1</td>\n",
       "      <td>1</td>\n",
       "      <td>Male</td>\n",
       "    </tr>\n",
       "    <tr>\n",
       "      <th>3</th>\n",
       "      <td>0</td>\n",
       "      <td>14.4</td>\n",
       "      <td>6.1</td>\n",
       "      <td>0</td>\n",
       "      <td>1</td>\n",
       "      <td>1</td>\n",
       "      <td>1</td>\n",
       "      <td>Male</td>\n",
       "    </tr>\n",
       "    <tr>\n",
       "      <th>4</th>\n",
       "      <td>1</td>\n",
       "      <td>13.5</td>\n",
       "      <td>5.9</td>\n",
       "      <td>0</td>\n",
       "      <td>0</td>\n",
       "      <td>0</td>\n",
       "      <td>0</td>\n",
       "      <td>Female</td>\n",
       "    </tr>\n",
       "  </tbody>\n",
       "</table>\n",
       "</div>"
      ],
      "text/plain": [
       "   long_hair  forehead_width_cm  forehead_height_cm  nose_wide  nose_long  \\\n",
       "0          1               11.8                 6.1          1          0   \n",
       "1          0               14.0                 5.4          0          0   \n",
       "2          0               11.8                 6.3          1          1   \n",
       "3          0               14.4                 6.1          0          1   \n",
       "4          1               13.5                 5.9          0          0   \n",
       "\n",
       "   lips_thin  distance_nose_to_lip_long  gender  \n",
       "0          1                          1    Male  \n",
       "1          1                          0  Female  \n",
       "2          1                          1    Male  \n",
       "3          1                          1    Male  \n",
       "4          0                          0  Female  "
      ]
     },
     "execution_count": 1,
     "metadata": {},
     "output_type": "execute_result"
    }
   ],
   "source": [
    "# Importing pandas to read data\n",
    "import pandas as pd\n",
    "\n",
    "# Reading the dataset\n",
    "data = pd.read_csv('gender_classification.csv')\n",
    "data.head()"
   ]
  },
  {
   "cell_type": "markdown",
   "id": "09ffe532",
   "metadata": {},
   "source": [
    "The above dataset consists of all the essential information that is required to classify the gender, let’s check the shape of the dataset which can give us an idea of the number of records and number of features present in the dataset."
   ]
  },
  {
   "cell_type": "code",
   "execution_count": 2,
   "id": "86b3d0b7",
   "metadata": {},
   "outputs": [
    {
     "data": {
      "text/plain": [
       "(5001, 8)"
      ]
     },
     "execution_count": 2,
     "metadata": {},
     "output_type": "execute_result"
    }
   ],
   "source": [
    "# Shape of the data\n",
    "data.shape"
   ]
  },
  {
   "cell_type": "markdown",
   "id": "ee6e56ba",
   "metadata": {},
   "source": [
    "There are around 5000 records and 8 features are present in the dataset. As we are dealing with a classification problem it is necessary to check how the classes of outcome variables are spared.  "
   ]
  },
  {
   "cell_type": "code",
   "execution_count": 3,
   "id": "e3494f6e",
   "metadata": {},
   "outputs": [
    {
     "data": {
      "text/plain": [
       "Female    2501\n",
       "Male      2500\n",
       "Name: gender, dtype: int64"
      ]
     },
     "execution_count": 3,
     "metadata": {},
     "output_type": "execute_result"
    }
   ],
   "source": [
    "# Counting labels\n",
    "data['gender'].value_counts()"
   ]
  },
  {
   "cell_type": "markdown",
   "id": "5ec11a6a",
   "metadata": {},
   "source": [
    "As we can see the classes are well distributed and perfectly balanced there is no need for class balancing at all. "
   ]
  },
  {
   "cell_type": "markdown",
   "id": "163d23eb",
   "metadata": {},
   "source": [
    "#### Preprocessing and defining features\n",
    "\n",
    "The class labels are stored in textual form and we need to convert those classes into numbers because models deal with data only in form of numbers. So first we replace the Female class with 0 and the class with 1, this will ultimately realize the binary nature of the output variables.  "
   ]
  },
  {
   "cell_type": "code",
   "execution_count": 4,
   "id": "e9abef38",
   "metadata": {},
   "outputs": [
    {
     "data": {
      "text/plain": [
       "0    2501\n",
       "1    2500\n",
       "Name: gender, dtype: int64"
      ]
     },
     "execution_count": 4,
     "metadata": {},
     "output_type": "execute_result"
    }
   ],
   "source": [
    "# Lableeing with numerical values\n",
    "data['gender'] = data['gender'].replace(to_replace=['Female', 'Male'], value=[0, 1])\n",
    "data['gender'].value_counts()"
   ]
  },
  {
   "cell_type": "markdown",
   "id": "45873d11",
   "metadata": {},
   "source": [
    "Above, we have successfully converted the textual form class into numbers. \n",
    "\n",
    "Next, we will define the input and output features from the dataset that we are using. The first 7 variables will be used as input variables and the last one will be used as output variables.  "
   ]
  },
  {
   "cell_type": "code",
   "execution_count": 5,
   "id": "882a3e26",
   "metadata": {},
   "outputs": [],
   "source": [
    "# Defining input and output features\n",
    "X = data.iloc[:,:-1].values\n",
    "y = data.iloc[:,-1].values"
   ]
  },
  {
   "cell_type": "markdown",
   "id": "3c9fbc55",
   "metadata": {},
   "source": [
    "Now we define both input and output features, let’s check the shape of these defined data."
   ]
  },
  {
   "cell_type": "code",
   "execution_count": 6,
   "id": "5d45dd0d",
   "metadata": {},
   "outputs": [
    {
     "name": "stdout",
     "output_type": "stream",
     "text": [
      "(5001, 7)\n",
      "(5001,)\n"
     ]
    }
   ],
   "source": [
    "# Checking shape of input-output features\n",
    "print(X.shape)\n",
    "print(y.shape)"
   ]
  },
  {
   "cell_type": "markdown",
   "id": "0c285da7",
   "metadata": {},
   "source": [
    "Further, we will split this X and y into train and test data using scikit learn’s train_test_split method.  "
   ]
  },
  {
   "cell_type": "code",
   "execution_count": 7,
   "id": "b3bef7fa",
   "metadata": {},
   "outputs": [],
   "source": [
    "# Creating training and test sets\n",
    "from sklearn.model_selection import train_test_split\n",
    "X_train, X_test, y_train, y_test = train_test_split(X, y, test_size = 0.2, random_state = 0) "
   ]
  },
  {
   "cell_type": "markdown",
   "id": "e7f46373",
   "metadata": {},
   "source": [
    "Out of the original data, we are using 20% of the data for testing the data, and the rest of the data will be used to train the neural network. Below we can the shapes of both training and testing data.  "
   ]
  },
  {
   "cell_type": "code",
   "execution_count": 8,
   "id": "231ded99",
   "metadata": {},
   "outputs": [
    {
     "name": "stdout",
     "output_type": "stream",
     "text": [
      "(4000, 7)\n",
      "(4000,)\n",
      "(1001, 7)\n",
      "(1001,)\n"
     ]
    }
   ],
   "source": [
    "# Shape of train-test sets\n",
    "print(X_train.shape)\n",
    "print(y_train.shape)\n",
    "print(X_test.shape)\n",
    "print(y_test.shape)"
   ]
  },
  {
   "cell_type": "markdown",
   "id": "2e818ab4",
   "metadata": {},
   "source": [
    "#### Building an Artificial Neural Network\n",
    "\n",
    "To build the ANN network we used a deep learning framework called Keras with the backend of the TensorFlow library. TensorFlow is basically deep learning which facilitates all the building blocks for neural networks from basic to advanced and Keras is a wrapper library which gives us beautiful APIs to access these building blocks of TensorFlow. \n",
    "\n",
    "So will build ANN using a Keras sequential model, a model which sequentially combines the layers of the network. The Keras Dense layers are used as neurons of the networks. Now below we will first import the dependencies from the Keras library.   "
   ]
  },
  {
   "cell_type": "code",
   "execution_count": 9,
   "id": "81b2c8f2",
   "metadata": {},
   "outputs": [],
   "source": [
    "# Libraries for neural networks\n",
    "from keras.models import Sequential\n",
    "from keras.layers import Dense"
   ]
  },
  {
   "cell_type": "markdown",
   "id": "0b7b0625",
   "metadata": {},
   "source": [
    "Next, we will initialize the sequential model, and add the dense layers to the model. Our model consists of 3 layers. The first input layers consist of the 12 neurons for 7 input features and these neurons will be activated according to the Relu activation function. \n",
    "\n",
    "The next hidden layer is 8 neurons with activation of Relu and the last layer will consist of only one neuron because we are going to predict the only one class from the at the time this layer will have activation function as sigmoid which is the most suitable activation function for binary classification problem. \n",
    "\n",
    "Below is how we can code our model."
   ]
  },
  {
   "cell_type": "code",
   "execution_count": 10,
   "id": "8fd83735",
   "metadata": {},
   "outputs": [],
   "source": [
    "# Defining the neural network model\n",
    "model = Sequential()\n",
    "model.add(Dense(12, input_dim=7, activation='relu'))\n",
    "model.add(Dense(8, activation='relu'))\n",
    "model.add(Dense(1, activation='sigmoid'))"
   ]
  },
  {
   "cell_type": "markdown",
   "id": "f3203cee",
   "metadata": {},
   "source": [
    "Let’s take a look at the summary of the model so we can validate whether the model has been built according to the definition or not."
   ]
  },
  {
   "cell_type": "code",
   "execution_count": 11,
   "id": "7fc640c7",
   "metadata": {},
   "outputs": [
    {
     "name": "stdout",
     "output_type": "stream",
     "text": [
      "Model: \"sequential\"\n",
      "_________________________________________________________________\n",
      " Layer (type)                Output Shape              Param #   \n",
      "=================================================================\n",
      " dense (Dense)               (None, 12)                96        \n",
      "                                                                 \n",
      " dense_1 (Dense)             (None, 8)                 104       \n",
      "                                                                 \n",
      " dense_2 (Dense)             (None, 1)                 9         \n",
      "                                                                 \n",
      "=================================================================\n",
      "Total params: 209\n",
      "Trainable params: 209\n",
      "Non-trainable params: 0\n",
      "_________________________________________________________________\n"
     ]
    }
   ],
   "source": [
    "# Summary of the neural network model\n",
    "model.summary()"
   ]
  },
  {
   "cell_type": "markdown",
   "id": "9010000b",
   "metadata": {},
   "source": [
    "As we can see the model has been correctly built with the correct definition of the neuron at each layer. In the summary, the model has a total of 209 trainable parameters. \n",
    "\n",
    "Next, we have to add the loss function to the model and optimizer to optimize this loss function so that model can converge faster and at the desired point. This is usually done using the model’s .compile() method where we can specify the loss function, optimizer function, and additional certain metrics on which the model will be evaluated during training and testing.   \n",
    "\n",
    "For our problem dealing with binary classification, the binary_crossentropy will be the loss function and this loss function will be optimized using the Stochastic gradient descent optimizer. Additionally, we are also using accuracy metrics to check the scores of the metrics. "
   ]
  },
  {
   "cell_type": "code",
   "execution_count": 12,
   "id": "1b3db023",
   "metadata": {},
   "outputs": [],
   "source": [
    "# Compiling the classifier\n",
    "model.compile(loss='binary_crossentropy', optimizer='sgd', metrics=['accuracy'])"
   ]
  },
  {
   "cell_type": "markdown",
   "id": "683ae87a",
   "metadata": {},
   "source": [
    "Now we are all set to train the model, .fit() method is used to train the model where we have to feed the training dataset that we have created in step 2, this training will take place for 10 epochs with a batch size of 10 and each epoch will have 400 instances to train the model.  \n",
    "\n",
    "The training instances for each epoch are calculated as: our training is having 4000 instances and we have chosen a batch size of 10 so for each epoch model will experience (4000/10) = 400 instances. \n",
    "\n",
    "Now let’s start the training."
   ]
  },
  {
   "cell_type": "code",
   "execution_count": 13,
   "id": "1e947c34",
   "metadata": {},
   "outputs": [
    {
     "name": "stdout",
     "output_type": "stream",
     "text": [
      "Epoch 1/10\n",
      "400/400 [==============================] - 2s 2ms/step - loss: 0.5825 - accuracy: 0.6935\n",
      "Epoch 2/10\n",
      "400/400 [==============================] - 1s 2ms/step - loss: 0.2098 - accuracy: 0.9255\n",
      "Epoch 3/10\n",
      "400/400 [==============================] - 1s 2ms/step - loss: 0.1512 - accuracy: 0.9477\n",
      "Epoch 4/10\n",
      "400/400 [==============================] - 1s 2ms/step - loss: 0.1358 - accuracy: 0.9448\n",
      "Epoch 5/10\n",
      "400/400 [==============================] - 1s 2ms/step - loss: 0.1161 - accuracy: 0.9550\n",
      "Epoch 6/10\n",
      "400/400 [==============================] - 1s 2ms/step - loss: 0.1207 - accuracy: 0.9488\n",
      "Epoch 7/10\n",
      "400/400 [==============================] - 1s 2ms/step - loss: 0.1184 - accuracy: 0.9520\n",
      "Epoch 8/10\n",
      "400/400 [==============================] - 1s 2ms/step - loss: 0.1132 - accuracy: 0.9538\n",
      "Epoch 9/10\n",
      "400/400 [==============================] - 1s 2ms/step - loss: 0.1035 - accuracy: 0.9545\n",
      "Epoch 10/10\n",
      "400/400 [==============================] - 1s 2ms/step - loss: 0.1086 - accuracy: 0.9555\n"
     ]
    }
   ],
   "source": [
    "# Training the classifier\n",
    "history = model.fit(X_train, y_train, epochs=10, batch_size=10)"
   ]
  },
  {
   "cell_type": "markdown",
   "id": "735fea05",
   "metadata": {},
   "source": [
    "As we can see after 10 epochs the model has reached an accuracy of 95.4% per cent on training data loss is around 0.1098 units. \n",
    "\n",
    "Let’s visualize this accuracy and loss."
   ]
  },
  {
   "cell_type": "code",
   "execution_count": 14,
   "id": "75dfbd2d",
   "metadata": {},
   "outputs": [
    {
     "data": {
      "image/png": "[encoded data removed]",
      "text/plain": [
       "<Figure size 432x288 with 1 Axes>"
      ]
     },
     "metadata": {
      "needs_background": "light"
     },
     "output_type": "display_data"
    }
   ],
   "source": [
    "import matplotlib.pyplot as plt\n",
    "plt.plot(history.history['accuracy'], label = 'Accuracy')\n",
    "plt.plot(history.history['loss'], label = 'Loss')\n",
    "plt.title('Training Performance')\n",
    "plt.xlabel('Epochs')\n",
    "plt.ylabel('Performance')\n",
    "plt.legend()\n",
    "plt.show()"
   ]
  },
  {
   "cell_type": "markdown",
   "id": "1b7c5b8b",
   "metadata": {},
   "source": [
    "As we can see in the above curve the loss started decreasing from 0.6 and stopped around 0.1 which is a significant drop, similarly, we can initiate the accuracy was 70% and finally, it reached around 95%. \n",
    "\n",
    "So finally let’s check the accuracy on training and testing data as below. "
   ]
  },
  {
   "cell_type": "code",
   "execution_count": 15,
   "id": "a61b731d",
   "metadata": {},
   "outputs": [
    {
     "name": "stdout",
     "output_type": "stream",
     "text": [
      "125/125 [==============================] - 0s 3ms/step - loss: 0.1370 - accuracy: 0.9570\n",
      "Training Accuracy: 95.70%\n",
      "\n",
      "32/32 [==============================] - 0s 2ms/step - loss: 0.1651 - accuracy: 0.9491\n",
      "Testing Accuracy: 94.91%\n",
      "\n"
     ]
    }
   ],
   "source": [
    "# Checking training and test accuracies\n",
    "scores = model.evaluate(X_train, y_train)\n",
    "print (\"Training Accuracy: %.2f%%\\n\" % (scores[1]*100))\n",
    "scores = model.evaluate(X_test, y_test)\n",
    "print (\"Testing Accuracy: %.2f%%\\n\" % (scores[1]*100))"
   ]
  },
  {
   "cell_type": "markdown",
   "id": "6fd83099",
   "metadata": {},
   "source": [
    "As we can see the accuracy of both training and testing is above 95% which is a good sign that the model has fitted very well with training data and is able to generalize the generalizations on testing very well. \n",
    "\n",
    "So this is how we can leverage the artificial neural network to address the binary classification problem on a real-world dataset.  "
   ]
  }
 ],
 "metadata": {
  "kernelspec": {
   "display_name": "Python 3 (ipykernel)",
   "language": "python",
   "name": "python3"
  },
  "language_info": {
   "codemirror_mode": {
    "name": "ipython",
    "version": 3
   },
   "file_extension": ".py",
   "mimetype": "text/x-python",
   "name": "python",
   "nbconvert_exporter": "python",
   "pygments_lexer": "ipython3",
   "version": "3.9.12"
  }
 },
 "nbformat": 4,
 "nbformat_minor": 5
}
