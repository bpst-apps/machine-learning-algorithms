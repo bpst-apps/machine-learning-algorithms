{
 "cells": [
  {
   "cell_type": "markdown",
   "id": "a6738884",
   "metadata": {},
   "source": [
    "## Hands-on implementation of Lasso, Ridge and Elastic Net Regression in Python\n",
    "\n",
    "---\n",
    "Predict the profit by a company based on the different spendings"
   ]
  },
  {
   "cell_type": "markdown",
   "id": "b3db267f",
   "metadata": {},
   "source": [
    "#### Importing the libraries"
   ]
  },
  {
   "cell_type": "code",
   "execution_count": 1,
   "id": "a3e4a366",
   "metadata": {},
   "outputs": [],
   "source": [
    "# Importing required libraries\n",
    "import pandas as pd\n",
    "import numpy as np"
   ]
  },
  {
   "cell_type": "markdown",
   "id": "180335e8",
   "metadata": {},
   "source": [
    "Next, we will read the dataset which is saved in a CSV file named 50_startups and check it."
   ]
  },
  {
   "cell_type": "markdown",
   "id": "4e7f8d2d",
   "metadata": {},
   "source": [
    "#### Reading and Inspecting the dataset"
   ]
  },
  {
   "cell_type": "code",
   "execution_count": 2,
   "id": "9c10db3b",
   "metadata": {},
   "outputs": [],
   "source": [
    "# Reading the dataset\n",
    "dataset = pd.read_csv('50_Startups.csv')"
   ]
  },
  {
   "cell_type": "code",
   "execution_count": 3,
   "id": "e1040154",
   "metadata": {},
   "outputs": [
    {
     "data": {
      "text/html": [
       "<div>\n",
       "<style scoped>\n",
       "    .dataframe tbody tr th:only-of-type {\n",
       "        vertical-align: middle;\n",
       "    }\n",
       "\n",
       "    .dataframe tbody tr th {\n",
       "        vertical-align: top;\n",
       "    }\n",
       "\n",
       "    .dataframe thead th {\n",
       "        text-align: right;\n",
       "    }\n",
       "</style>\n",
       "<table border=\"1\" class=\"dataframe\">\n",
       "  <thead>\n",
       "    <tr style=\"text-align: right;\">\n",
       "      <th></th>\n",
       "      <th>R&amp;D Spend</th>\n",
       "      <th>Administration</th>\n",
       "      <th>Marketing Spend</th>\n",
       "      <th>State</th>\n",
       "      <th>Profit</th>\n",
       "    </tr>\n",
       "  </thead>\n",
       "  <tbody>\n",
       "    <tr>\n",
       "      <th>0</th>\n",
       "      <td>165349.20</td>\n",
       "      <td>136897.80</td>\n",
       "      <td>471784.10</td>\n",
       "      <td>New York</td>\n",
       "      <td>192261.83</td>\n",
       "    </tr>\n",
       "    <tr>\n",
       "      <th>1</th>\n",
       "      <td>162597.70</td>\n",
       "      <td>151377.59</td>\n",
       "      <td>443898.53</td>\n",
       "      <td>California</td>\n",
       "      <td>191792.06</td>\n",
       "    </tr>\n",
       "    <tr>\n",
       "      <th>2</th>\n",
       "      <td>153441.51</td>\n",
       "      <td>101145.55</td>\n",
       "      <td>407934.54</td>\n",
       "      <td>Florida</td>\n",
       "      <td>191050.39</td>\n",
       "    </tr>\n",
       "    <tr>\n",
       "      <th>3</th>\n",
       "      <td>144372.41</td>\n",
       "      <td>118671.85</td>\n",
       "      <td>383199.62</td>\n",
       "      <td>New York</td>\n",
       "      <td>182901.99</td>\n",
       "    </tr>\n",
       "    <tr>\n",
       "      <th>4</th>\n",
       "      <td>142107.34</td>\n",
       "      <td>91391.77</td>\n",
       "      <td>366168.42</td>\n",
       "      <td>Florida</td>\n",
       "      <td>166187.94</td>\n",
       "    </tr>\n",
       "  </tbody>\n",
       "</table>\n",
       "</div>"
      ],
      "text/plain": [
       "   R&D Spend  Administration  Marketing Spend       State     Profit\n",
       "0  165349.20       136897.80        471784.10    New York  192261.83\n",
       "1  162597.70       151377.59        443898.53  California  191792.06\n",
       "2  153441.51       101145.55        407934.54     Florida  191050.39\n",
       "3  144372.41       118671.85        383199.62    New York  182901.99\n",
       "4  142107.34        91391.77        366168.42     Florida  166187.94"
      ]
     },
     "execution_count": 3,
     "metadata": {},
     "output_type": "execute_result"
    }
   ],
   "source": [
    "# Checking top 5 rows\n",
    "dataset.head()"
   ]
  },
  {
   "cell_type": "code",
   "execution_count": 4,
   "id": "48944cf7",
   "metadata": {},
   "outputs": [
    {
     "data": {
      "text/plain": [
       "(50, 5)"
      ]
     },
     "execution_count": 4,
     "metadata": {},
     "output_type": "execute_result"
    }
   ],
   "source": [
    "# Checking shape of the dataset\n",
    "dataset.shape"
   ]
  },
  {
   "cell_type": "markdown",
   "id": "496bfeb4",
   "metadata": {},
   "source": [
    "#### Defining Features\n",
    "\n",
    "After reading the dataset successfully, we will define the input and output features as X and y respectively. "
   ]
  },
  {
   "cell_type": "code",
   "execution_count": 5,
   "id": "32006022",
   "metadata": {},
   "outputs": [],
   "source": [
    "# Defining input and output features\n",
    "X = dataset.iloc[:, :-1].values\n",
    "y = dataset.iloc[:, -1].values"
   ]
  },
  {
   "cell_type": "markdown",
   "id": "f9bd76ba",
   "metadata": {},
   "source": [
    "Let’s check the shapes of input and output features. "
   ]
  },
  {
   "cell_type": "code",
   "execution_count": 6,
   "id": "1cf6a848",
   "metadata": {},
   "outputs": [
    {
     "name": "stdout",
     "output_type": "stream",
     "text": [
      "Shape of the input features: (50, 4)\n",
      "Shape of the output features: (50,)\n"
     ]
    }
   ],
   "source": [
    "# Checking the shape of input and output features\n",
    "print('Shape of the input features:', X.shape)\n",
    "print('Shape of the output features:', y.shape)"
   ]
  },
  {
   "cell_type": "markdown",
   "id": "528ef963",
   "metadata": {},
   "source": [
    "Let us see how the input features look. "
   ]
  },
  {
   "cell_type": "code",
   "execution_count": 7,
   "id": "4d448378",
   "metadata": {},
   "outputs": [
    {
     "name": "stdout",
     "output_type": "stream",
     "text": [
      "[[165349.2 136897.8 471784.1 'New York']\n",
      " [162597.7 151377.59 443898.53 'California']\n",
      " [153441.51 101145.55 407934.54 'Florida']\n",
      " [144372.41 118671.85 383199.62 'New York']\n",
      " [142107.34 91391.77 366168.42 'Florida']\n",
      " [131876.9 99814.71 362861.36 'New York']\n",
      " [134615.46 147198.87 127716.82 'California']\n",
      " [130298.13 145530.06 323876.68 'Florida']\n",
      " [120542.52 148718.95 311613.29 'New York']\n",
      " [123334.88 108679.17 304981.62 'California']\n",
      " [101913.08 110594.11 229160.95 'Florida']\n",
      " [100671.96 91790.61 249744.55 'California']\n",
      " [93863.75 127320.38 249839.44 'Florida']\n",
      " [91992.39 135495.07 252664.93 'California']\n",
      " [119943.24 156547.42 256512.92 'Florida']\n",
      " [114523.61 122616.84 261776.23 'New York']\n",
      " [78013.11 121597.55 264346.06 'California']\n",
      " [94657.16 145077.58 282574.31 'New York']\n",
      " [91749.16 114175.79 294919.57 'Florida']\n",
      " [86419.7 153514.11 0.0 'New York']\n",
      " [76253.86 113867.3 298664.47 'California']\n",
      " [78389.47 153773.43 299737.29 'New York']\n",
      " [73994.56 122782.75 303319.26 'Florida']\n",
      " [67532.53 105751.03 304768.73 'Florida']\n",
      " [77044.01 99281.34 140574.81 'New York']\n",
      " [64664.71 139553.16 137962.62 'California']\n",
      " [75328.87 144135.98 134050.07 'Florida']\n",
      " [72107.6 127864.55 353183.81 'New York']\n",
      " [66051.52 182645.56 118148.2 'Florida']\n",
      " [65605.48 153032.06 107138.38 'New York']\n",
      " [61994.48 115641.28 91131.24 'Florida']\n",
      " [61136.38 152701.92 88218.23 'New York']\n",
      " [63408.86 129219.61 46085.25 'California']\n",
      " [55493.95 103057.49 214634.81 'Florida']\n",
      " [46426.07 157693.92 210797.67 'California']\n",
      " [46014.02 85047.44 205517.64 'New York']\n",
      " [28663.76 127056.21 201126.82 'Florida']\n",
      " [44069.95 51283.14 197029.42 'California']\n",
      " [20229.59 65947.93 185265.1 'New York']\n",
      " [38558.51 82982.09 174999.3 'California']\n",
      " [28754.33 118546.05 172795.67 'California']\n",
      " [27892.92 84710.77 164470.71 'Florida']\n",
      " [23640.93 96189.63 148001.11 'California']\n",
      " [15505.73 127382.3 35534.17 'New York']\n",
      " [22177.74 154806.14 28334.72 'California']\n",
      " [1000.23 124153.04 1903.93 'New York']\n",
      " [1315.46 115816.21 297114.46 'Florida']\n",
      " [0.0 135426.92 0.0 'California']\n",
      " [542.05 51743.15 0.0 'New York']\n",
      " [0.0 116983.8 45173.06 'California']]\n"
     ]
    }
   ],
   "source": [
    "# Checking the input matrix\n",
    "print(X)"
   ]
  },
  {
   "cell_type": "markdown",
   "id": "00cfaffa",
   "metadata": {},
   "source": [
    "As we can see here, the states are appearing as a categorical feature that needs to be encoded. "
   ]
  },
  {
   "cell_type": "markdown",
   "id": "1fb912a7",
   "metadata": {},
   "source": [
    "#### Encoding categorical data\n",
    "\n",
    "To encode the categorical feature, i.e., states, we will use the one-hot encoding method. "
   ]
  },
  {
   "cell_type": "code",
   "execution_count": 8,
   "id": "3bf52351",
   "metadata": {},
   "outputs": [],
   "source": [
    "# One hot encoding of the categorical column\n",
    "from sklearn.compose import ColumnTransformer\n",
    "from sklearn.preprocessing import OneHotEncoder\n",
    "ct = ColumnTransformer(transformers=[('encoder', OneHotEncoder(), [3])], remainder='passthrough')\n",
    "X = np.array(ct.fit_transform(X))"
   ]
  },
  {
   "cell_type": "markdown",
   "id": "5052fa64",
   "metadata": {},
   "source": [
    "After encoding, let us see how the input features look. "
   ]
  },
  {
   "cell_type": "code",
   "execution_count": 9,
   "id": "fb33abea",
   "metadata": {},
   "outputs": [
    {
     "name": "stdout",
     "output_type": "stream",
     "text": [
      "[[0.0 0.0 1.0 165349.2 136897.8 471784.1]\n",
      " [1.0 0.0 0.0 162597.7 151377.59 443898.53]\n",
      " [0.0 1.0 0.0 153441.51 101145.55 407934.54]\n",
      " [0.0 0.0 1.0 144372.41 118671.85 383199.62]\n",
      " [0.0 1.0 0.0 142107.34 91391.77 366168.42]\n",
      " [0.0 0.0 1.0 131876.9 99814.71 362861.36]\n",
      " [1.0 0.0 0.0 134615.46 147198.87 127716.82]\n",
      " [0.0 1.0 0.0 130298.13 145530.06 323876.68]\n",
      " [0.0 0.0 1.0 120542.52 148718.95 311613.29]\n",
      " [1.0 0.0 0.0 123334.88 108679.17 304981.62]\n",
      " [0.0 1.0 0.0 101913.08 110594.11 229160.95]\n",
      " [1.0 0.0 0.0 100671.96 91790.61 249744.55]\n",
      " [0.0 1.0 0.0 93863.75 127320.38 249839.44]\n",
      " [1.0 0.0 0.0 91992.39 135495.07 252664.93]\n",
      " [0.0 1.0 0.0 119943.24 156547.42 256512.92]\n",
      " [0.0 0.0 1.0 114523.61 122616.84 261776.23]\n",
      " [1.0 0.0 0.0 78013.11 121597.55 264346.06]\n",
      " [0.0 0.0 1.0 94657.16 145077.58 282574.31]\n",
      " [0.0 1.0 0.0 91749.16 114175.79 294919.57]\n",
      " [0.0 0.0 1.0 86419.7 153514.11 0.0]\n",
      " [1.0 0.0 0.0 76253.86 113867.3 298664.47]\n",
      " [0.0 0.0 1.0 78389.47 153773.43 299737.29]\n",
      " [0.0 1.0 0.0 73994.56 122782.75 303319.26]\n",
      " [0.0 1.0 0.0 67532.53 105751.03 304768.73]\n",
      " [0.0 0.0 1.0 77044.01 99281.34 140574.81]\n",
      " [1.0 0.0 0.0 64664.71 139553.16 137962.62]\n",
      " [0.0 1.0 0.0 75328.87 144135.98 134050.07]\n",
      " [0.0 0.0 1.0 72107.6 127864.55 353183.81]\n",
      " [0.0 1.0 0.0 66051.52 182645.56 118148.2]\n",
      " [0.0 0.0 1.0 65605.48 153032.06 107138.38]\n",
      " [0.0 1.0 0.0 61994.48 115641.28 91131.24]\n",
      " [0.0 0.0 1.0 61136.38 152701.92 88218.23]\n",
      " [1.0 0.0 0.0 63408.86 129219.61 46085.25]\n",
      " [0.0 1.0 0.0 55493.95 103057.49 214634.81]\n",
      " [1.0 0.0 0.0 46426.07 157693.92 210797.67]\n",
      " [0.0 0.0 1.0 46014.02 85047.44 205517.64]\n",
      " [0.0 1.0 0.0 28663.76 127056.21 201126.82]\n",
      " [1.0 0.0 0.0 44069.95 51283.14 197029.42]\n",
      " [0.0 0.0 1.0 20229.59 65947.93 185265.1]\n",
      " [1.0 0.0 0.0 38558.51 82982.09 174999.3]\n",
      " [1.0 0.0 0.0 28754.33 118546.05 172795.67]\n",
      " [0.0 1.0 0.0 27892.92 84710.77 164470.71]\n",
      " [1.0 0.0 0.0 23640.93 96189.63 148001.11]\n",
      " [0.0 0.0 1.0 15505.73 127382.3 35534.17]\n",
      " [1.0 0.0 0.0 22177.74 154806.14 28334.72]\n",
      " [0.0 0.0 1.0 1000.23 124153.04 1903.93]\n",
      " [0.0 1.0 0.0 1315.46 115816.21 297114.46]\n",
      " [1.0 0.0 0.0 0.0 135426.92 0.0]\n",
      " [0.0 0.0 1.0 542.05 51743.15 0.0]\n",
      " [1.0 0.0 0.0 0.0 116983.8 45173.06]]\n"
     ]
    }
   ],
   "source": [
    "# Input feature matrix after categorical encoding\n",
    "print(X)"
   ]
  },
  {
   "cell_type": "markdown",
   "id": "43a530fc",
   "metadata": {},
   "source": [
    "We can see that there are three dummy variables created as a result of one-hot encoding of the categorical feature, `states`. "
   ]
  },
  {
   "cell_type": "markdown",
   "id": "e1b3321b",
   "metadata": {},
   "source": [
    "#### Splitting the dataset into the training set and test set\n",
    "\n",
    "After getting the input and output features ready, we will split them into training and test sets. We will use 40 records for training and 10 records for testing. "
   ]
  },
  {
   "cell_type": "code",
   "execution_count": 10,
   "id": "fb4498d0",
   "metadata": {},
   "outputs": [],
   "source": [
    "# Splitting the features into train and test sets\n",
    "from sklearn.model_selection import train_test_split\n",
    "X_train, X_test, y_train, y_test = train_test_split(X, y, test_size = 0.2, random_state = 0)"
   ]
  },
  {
   "cell_type": "markdown",
   "id": "7a3a81bb",
   "metadata": {},
   "source": [
    "#### Linear Regression Model\n",
    "\n",
    "In the next step, let's define and linear regression model and train it using the training set. "
   ]
  },
  {
   "cell_type": "code",
   "execution_count": 11,
   "id": "c1277959",
   "metadata": {},
   "outputs": [],
   "source": [
    "# Defining a linear regression model\n",
    "from sklearn.linear_model import LinearRegression\n",
    "regressor = LinearRegression()"
   ]
  },
  {
   "cell_type": "code",
   "execution_count": 12,
   "id": "7cf79393",
   "metadata": {},
   "outputs": [
    {
     "data": {
      "text/html": [
       "<style>#sk-container-id-1 {color: black;background-color: white;}#sk-container-id-1 pre{padding: 0;}#sk-container-id-1 div.sk-toggleable {background-color: white;}#sk-container-id-1 label.sk-toggleable__label {cursor: pointer;display: block;width: 100%;margin-bottom: 0;padding: 0.3em;box-sizing: border-box;text-align: center;}#sk-container-id-1 label.sk-toggleable__label-arrow:before {content: \"▸\";float: left;margin-right: 0.25em;color: #696969;}#sk-container-id-1 label.sk-toggleable__label-arrow:hover:before {color: black;}#sk-container-id-1 div.sk-estimator:hover label.sk-toggleable__label-arrow:before {color: black;}#sk-container-id-1 div.sk-toggleable__content {max-height: 0;max-width: 0;overflow: hidden;text-align: left;background-color: #f0f8ff;}#sk-container-id-1 div.sk-toggleable__content pre {margin: 0.2em;color: black;border-radius: 0.25em;background-color: #f0f8ff;}#sk-container-id-1 input.sk-toggleable__control:checked~div.sk-toggleable__content {max-height: 200px;max-width: 100%;overflow: auto;}#sk-container-id-1 input.sk-toggleable__control:checked~label.sk-toggleable__label-arrow:before {content: \"▾\";}#sk-container-id-1 div.sk-estimator input.sk-toggleable__control:checked~label.sk-toggleable__label {background-color: #d4ebff;}#sk-container-id-1 div.sk-label input.sk-toggleable__control:checked~label.sk-toggleable__label {background-color: #d4ebff;}#sk-container-id-1 input.sk-hidden--visually {border: 0;clip: rect(1px 1px 1px 1px);clip: rect(1px, 1px, 1px, 1px);height: 1px;margin: -1px;overflow: hidden;padding: 0;position: absolute;width: 1px;}#sk-container-id-1 div.sk-estimator {font-family: monospace;background-color: #f0f8ff;border: 1px dotted black;border-radius: 0.25em;box-sizing: border-box;margin-bottom: 0.5em;}#sk-container-id-1 div.sk-estimator:hover {background-color: #d4ebff;}#sk-container-id-1 div.sk-parallel-item::after {content: \"\";width: 100%;border-bottom: 1px solid gray;flex-grow: 1;}#sk-container-id-1 div.sk-label:hover label.sk-toggleable__label {background-color: #d4ebff;}#sk-container-id-1 div.sk-serial::before {content: \"\";position: absolute;border-left: 1px solid gray;box-sizing: border-box;top: 0;bottom: 0;left: 50%;z-index: 0;}#sk-container-id-1 div.sk-serial {display: flex;flex-direction: column;align-items: center;background-color: white;padding-right: 0.2em;padding-left: 0.2em;position: relative;}#sk-container-id-1 div.sk-item {position: relative;z-index: 1;}#sk-container-id-1 div.sk-parallel {display: flex;align-items: stretch;justify-content: center;background-color: white;position: relative;}#sk-container-id-1 div.sk-item::before, #sk-container-id-1 div.sk-parallel-item::before {content: \"\";position: absolute;border-left: 1px solid gray;box-sizing: border-box;top: 0;bottom: 0;left: 50%;z-index: -1;}#sk-container-id-1 div.sk-parallel-item {display: flex;flex-direction: column;z-index: 1;position: relative;background-color: white;}#sk-container-id-1 div.sk-parallel-item:first-child::after {align-self: flex-end;width: 50%;}#sk-container-id-1 div.sk-parallel-item:last-child::after {align-self: flex-start;width: 50%;}#sk-container-id-1 div.sk-parallel-item:only-child::after {width: 0;}#sk-container-id-1 div.sk-dashed-wrapped {border: 1px dashed gray;margin: 0 0.4em 0.5em 0.4em;box-sizing: border-box;padding-bottom: 0.4em;background-color: white;}#sk-container-id-1 div.sk-label label {font-family: monospace;font-weight: bold;display: inline-block;line-height: 1.2em;}#sk-container-id-1 div.sk-label-container {text-align: center;}#sk-container-id-1 div.sk-container {/* jupyter's `normalize.less` sets `[hidden] { display: none; }` but bootstrap.min.css set `[hidden] { display: none !important; }` so we also need the `!important` here to be able to override the default hidden behavior on the sphinx rendered scikit-learn.org. See: https://github.com/scikit-learn/scikit-learn/issues/21755 */display: inline-block !important;position: relative;}#sk-container-id-1 div.sk-text-repr-fallback {display: none;}</style><div id=\"sk-container-id-1\" class=\"sk-top-container\"><div class=\"sk-text-repr-fallback\"><pre>LinearRegression()</pre><b>In a Jupyter environment, please rerun this cell to show the HTML representation or trust the notebook. <br />On GitHub, the HTML representation is unable to render, please try loading this page with nbviewer.org.</b></div><div class=\"sk-container\" hidden><div class=\"sk-item\"><div class=\"sk-estimator sk-toggleable\"><input class=\"sk-toggleable__control sk-hidden--visually\" id=\"sk-estimator-id-1\" type=\"checkbox\" checked><label for=\"sk-estimator-id-1\" class=\"sk-toggleable__label sk-toggleable__label-arrow\">LinearRegression</label><div class=\"sk-toggleable__content\"><pre>LinearRegression()</pre></div></div></div></div></div>"
      ],
      "text/plain": [
       "LinearRegression()"
      ]
     },
     "execution_count": 12,
     "metadata": {},
     "output_type": "execute_result"
    }
   ],
   "source": [
    "# Fitting the linear regression model\n",
    "regressor.fit(X_train, y_train)"
   ]
  },
  {
   "cell_type": "markdown",
   "id": "2eb5f895",
   "metadata": {},
   "source": [
    "After getting the linear regression model trained, we will check the coefficients of the fitted regression model."
   ]
  },
  {
   "cell_type": "code",
   "execution_count": 13,
   "id": "4ef365a7",
   "metadata": {},
   "outputs": [
    {
     "name": "stdout",
     "output_type": "stream",
     "text": [
      "[ 8.66383692e+01 -8.72645791e+02  7.86007422e+02  7.73467193e-01\n",
      "  3.28845975e-02  3.66100259e-02]\n"
     ]
    }
   ],
   "source": [
    "# Checking the regression coefficients of the fitted model\n",
    "print(regressor.coef_)"
   ]
  },
  {
   "cell_type": "markdown",
   "id": "7e05cb25",
   "metadata": {},
   "source": [
    "#### Prediction and Evaluation"
   ]
  },
  {
   "cell_type": "markdown",
   "id": "4b91b176",
   "metadata": {},
   "source": [
    "Using the fitted regression model, we will make predictions with the test data and find the accuracy in predictions using different evaluation methods, mean squared error (MSE), root mean squared error (RMSE), R-squared and adjusted R-squared. "
   ]
  },
  {
   "cell_type": "code",
   "execution_count": 14,
   "id": "4b2cba1f",
   "metadata": {},
   "outputs": [
    {
     "name": "stdout",
     "output_type": "stream",
     "text": [
      "Mean Squared Error is: 83502864.03253008\n",
      "Root Mean Squared Error is: 9137.990152792358\n",
      "R-Squared is: 0.9347068473282795\n",
      "Adjusted R-Squared is: 0.9228353650243303\n"
     ]
    }
   ],
   "source": [
    "from sklearn.metrics import mean_squared_error\n",
    "import math\n",
    "from sklearn.metrics import r2_score\n",
    "\n",
    "# Making predictions on the test data\n",
    "y_pred = regressor.predict(X_test)\n",
    "\n",
    "# Mean Squared Error (MSE)\n",
    "MSE_lr = mean_squared_error(y_test, y_pred)\n",
    "print('Mean Squared Error is:', MSE_lr)\n",
    "\n",
    "# Root Mean Squared Error (RMSE)\n",
    "RMSE_lr = math.sqrt(MSE_lr)\n",
    "print('Root Mean Squared Error is:', RMSE_lr)\n",
    "\n",
    "# R-Squared\n",
    "r2_lr = r2_score(y_test, y_pred)\n",
    "print('R-Squared is:', r2_lr)\n",
    "\n",
    "# Adjusted R-Squared\n",
    "adj_lr = 1-(\n",
    "         (1-r2_lr)*(X_train.shape[0]-1)/\n",
    "          (X_train.shape[0]-X_train.shape[1]-1)\n",
    "          )\n",
    "print('Adjusted R-Squared is:', adj_lr)"
   ]
  },
  {
   "cell_type": "markdown",
   "id": "e6d62fd7",
   "metadata": {},
   "source": [
    "We can see in the output that we have obtained the values of MSE, RMS, R-squared and adjusted R-squared. \n",
    "\n",
    "Now, let us use the lasso regression method in the same task and let us see how it works."
   ]
  },
  {
   "cell_type": "markdown",
   "id": "b5a08fa7",
   "metadata": {},
   "source": [
    "#### Lasso Regression\n",
    "\n",
    "The most important factor with the lasso regression is the alpha value. We need to find out the best value of alpha so that the model can give the best results. We can either go with the hit and trial way, put the random values of alpha and check the model's performance. Alternatively, we can use hyperparameter tuning methods to find the optimal values.\n",
    "\n",
    "Here we will use the grid search cross-validation approach to find the optimal value of alpha for the lasso regression model."
   ]
  },
  {
   "cell_type": "code",
   "execution_count": 15,
   "id": "c52ac395",
   "metadata": {},
   "outputs": [
    {
     "name": "stdout",
     "output_type": "stream",
     "text": [
      "Best value for alpha is:  0.31622776601683794\n"
     ]
    }
   ],
   "source": [
    "# Finding the optimal value of alpha\n",
    "from sklearn.model_selection import GridSearchCV\n",
    "from sklearn.linear_model import Lasso\n",
    "\n",
    "lasso = Lasso(random_state=0, max_iter=10000)\n",
    "alphas = np.logspace(-4, -0.5, 30)\n",
    "#alphas = np.array([0, 0.01, 0.02, 0.03, 0.05, 0.1, 0.5, 1.0, 3.0, 5.0])\n",
    "grid1 = GridSearchCV(estimator=lasso, cv=5, scoring='r2', param_grid=dict(alpha=alphas))\n",
    "grid1.fit(X, y)\n",
    "print('Best value for alpha is: ', grid1.best_estimator_.alpha)"
   ]
  },
  {
   "cell_type": "markdown",
   "id": "f5337e1c",
   "metadata": {},
   "source": [
    "Using this optimal value of alpha, we will define the lasso regression model and train it."
   ]
  },
  {
   "cell_type": "code",
   "execution_count": 16,
   "id": "600fc9d6",
   "metadata": {},
   "outputs": [
    {
     "name": "stderr",
     "output_type": "stream",
     "text": [
      "C:\\Users\\thaku\\anaconda3\\envs\\deep-learning\\lib\\site-packages\\sklearn\\linear_model\\_base.py:141: FutureWarning: 'normalize' was deprecated in version 1.0 and will be removed in 1.2.\n",
      "If you wish to scale the data, use Pipeline with a StandardScaler in a preprocessing stage. To reproduce the previous behavior:\n",
      "\n",
      "from sklearn.pipeline import make_pipeline\n",
      "\n",
      "model = make_pipeline(StandardScaler(with_mean=False), Lasso())\n",
      "\n",
      "If you wish to pass a sample_weight parameter, you need to pass it as a fit parameter to each step of the pipeline as follows:\n",
      "\n",
      "kwargs = {s[0] + '__sample_weight': sample_weight for s in model.steps}\n",
      "model.fit(X, y, **kwargs)\n",
      "\n",
      "Set parameter alpha to: original_alpha * np.sqrt(n_samples). \n",
      "  warnings.warn(\n"
     ]
    },
    {
     "data": {
      "text/html": [
       "<style>#sk-container-id-2 {color: black;background-color: white;}#sk-container-id-2 pre{padding: 0;}#sk-container-id-2 div.sk-toggleable {background-color: white;}#sk-container-id-2 label.sk-toggleable__label {cursor: pointer;display: block;width: 100%;margin-bottom: 0;padding: 0.3em;box-sizing: border-box;text-align: center;}#sk-container-id-2 label.sk-toggleable__label-arrow:before {content: \"▸\";float: left;margin-right: 0.25em;color: #696969;}#sk-container-id-2 label.sk-toggleable__label-arrow:hover:before {color: black;}#sk-container-id-2 div.sk-estimator:hover label.sk-toggleable__label-arrow:before {color: black;}#sk-container-id-2 div.sk-toggleable__content {max-height: 0;max-width: 0;overflow: hidden;text-align: left;background-color: #f0f8ff;}#sk-container-id-2 div.sk-toggleable__content pre {margin: 0.2em;color: black;border-radius: 0.25em;background-color: #f0f8ff;}#sk-container-id-2 input.sk-toggleable__control:checked~div.sk-toggleable__content {max-height: 200px;max-width: 100%;overflow: auto;}#sk-container-id-2 input.sk-toggleable__control:checked~label.sk-toggleable__label-arrow:before {content: \"▾\";}#sk-container-id-2 div.sk-estimator input.sk-toggleable__control:checked~label.sk-toggleable__label {background-color: #d4ebff;}#sk-container-id-2 div.sk-label input.sk-toggleable__control:checked~label.sk-toggleable__label {background-color: #d4ebff;}#sk-container-id-2 input.sk-hidden--visually {border: 0;clip: rect(1px 1px 1px 1px);clip: rect(1px, 1px, 1px, 1px);height: 1px;margin: -1px;overflow: hidden;padding: 0;position: absolute;width: 1px;}#sk-container-id-2 div.sk-estimator {font-family: monospace;background-color: #f0f8ff;border: 1px dotted black;border-radius: 0.25em;box-sizing: border-box;margin-bottom: 0.5em;}#sk-container-id-2 div.sk-estimator:hover {background-color: #d4ebff;}#sk-container-id-2 div.sk-parallel-item::after {content: \"\";width: 100%;border-bottom: 1px solid gray;flex-grow: 1;}#sk-container-id-2 div.sk-label:hover label.sk-toggleable__label {background-color: #d4ebff;}#sk-container-id-2 div.sk-serial::before {content: \"\";position: absolute;border-left: 1px solid gray;box-sizing: border-box;top: 0;bottom: 0;left: 50%;z-index: 0;}#sk-container-id-2 div.sk-serial {display: flex;flex-direction: column;align-items: center;background-color: white;padding-right: 0.2em;padding-left: 0.2em;position: relative;}#sk-container-id-2 div.sk-item {position: relative;z-index: 1;}#sk-container-id-2 div.sk-parallel {display: flex;align-items: stretch;justify-content: center;background-color: white;position: relative;}#sk-container-id-2 div.sk-item::before, #sk-container-id-2 div.sk-parallel-item::before {content: \"\";position: absolute;border-left: 1px solid gray;box-sizing: border-box;top: 0;bottom: 0;left: 50%;z-index: -1;}#sk-container-id-2 div.sk-parallel-item {display: flex;flex-direction: column;z-index: 1;position: relative;background-color: white;}#sk-container-id-2 div.sk-parallel-item:first-child::after {align-self: flex-end;width: 50%;}#sk-container-id-2 div.sk-parallel-item:last-child::after {align-self: flex-start;width: 50%;}#sk-container-id-2 div.sk-parallel-item:only-child::after {width: 0;}#sk-container-id-2 div.sk-dashed-wrapped {border: 1px dashed gray;margin: 0 0.4em 0.5em 0.4em;box-sizing: border-box;padding-bottom: 0.4em;background-color: white;}#sk-container-id-2 div.sk-label label {font-family: monospace;font-weight: bold;display: inline-block;line-height: 1.2em;}#sk-container-id-2 div.sk-label-container {text-align: center;}#sk-container-id-2 div.sk-container {/* jupyter's `normalize.less` sets `[hidden] { display: none; }` but bootstrap.min.css set `[hidden] { display: none !important; }` so we also need the `!important` here to be able to override the default hidden behavior on the sphinx rendered scikit-learn.org. See: https://github.com/scikit-learn/scikit-learn/issues/21755 */display: inline-block !important;position: relative;}#sk-container-id-2 div.sk-text-repr-fallback {display: none;}</style><div id=\"sk-container-id-2\" class=\"sk-top-container\"><div class=\"sk-text-repr-fallback\"><pre>Lasso(alpha=0.31, normalize=True)</pre><b>In a Jupyter environment, please rerun this cell to show the HTML representation or trust the notebook. <br />On GitHub, the HTML representation is unable to render, please try loading this page with nbviewer.org.</b></div><div class=\"sk-container\" hidden><div class=\"sk-item\"><div class=\"sk-estimator sk-toggleable\"><input class=\"sk-toggleable__control sk-hidden--visually\" id=\"sk-estimator-id-2\" type=\"checkbox\" checked><label for=\"sk-estimator-id-2\" class=\"sk-toggleable__label sk-toggleable__label-arrow\">Lasso</label><div class=\"sk-toggleable__content\"><pre>Lasso(alpha=0.31, normalize=True)</pre></div></div></div></div></div>"
      ],
      "text/plain": [
       "Lasso(alpha=0.31, normalize=True)"
      ]
     },
     "execution_count": 16,
     "metadata": {},
     "output_type": "execute_result"
    }
   ],
   "source": [
    "# Defining and training the lasso regressor\n",
    "lassoReg = Lasso(alpha=0.31, normalize=True)\n",
    "lassoReg.fit(X_train, y_train)"
   ]
  },
  {
   "cell_type": "code",
   "execution_count": 17,
   "id": "2d685962",
   "metadata": {},
   "outputs": [
    {
     "name": "stdout",
     "output_type": "stream",
     "text": [
      "[-1.53194217e+02 -1.10936248e+03  5.42458980e+02  7.73508579e-01\n",
      "  3.27921574e-02  3.65829933e-02]\n"
     ]
    }
   ],
   "source": [
    "# Checking the coefficients\n",
    "print(lassoReg.coef_)"
   ]
  },
  {
   "cell_type": "markdown",
   "id": "fb2e8d46",
   "metadata": {},
   "source": [
    "As we can see in the output, the lasso regression has shrunk the values of regression coefficients as compared to the linear regression. \n",
    "\n",
    "Using the fitted regression model, we will make predictions with the test data and find the accuracy in predictions using different evaluation methods, mean squared error (MSE), root mean squared error (RMSE), R-squared and adjusted R-squared."
   ]
  },
  {
   "cell_type": "code",
   "execution_count": 18,
   "id": "4bc2d20a",
   "metadata": {},
   "outputs": [
    {
     "name": "stdout",
     "output_type": "stream",
     "text": [
      "Mean Squared Error is: 83447520.7085818\n",
      "Root Mean Squared Error is: 9134.961450853627\n",
      "R-Squared is: 0.9347501217733154\n",
      "Adjusted R-Squared is: 0.9228865075502819\n"
     ]
    }
   ],
   "source": [
    "# Making predictions on the test data\n",
    "y_pred = lassoReg.predict(X_test)\n",
    "\n",
    "# Mean Squared Error (MSE)\n",
    "MSE_ls = mean_squared_error(y_test, y_pred)\n",
    "print('Mean Squared Error is:', MSE_ls)\n",
    "\n",
    "# Root Mean Squared Error (RMSE)\n",
    "RMSE_ls = math.sqrt(MSE_ls)\n",
    "print('Root Mean Squared Error is:', RMSE_ls)\n",
    "\n",
    "# R-Squared\n",
    "r2_ls = r2_score(y_test, y_pred)\n",
    "print('R-Squared is:', r2_ls)\n",
    "\n",
    "# Adjusted R-Squared\n",
    "adj_ls = 1-(\n",
    "         (1-r2_ls)*(X_train.shape[0]-1)/\n",
    "          (X_train.shape[0]-X_train.shape[1]-1)\n",
    "          )\n",
    "print('Adjusted R-Squared is:', adj_ls)"
   ]
  },
  {
   "cell_type": "markdown",
   "id": "7a793c82",
   "metadata": {},
   "source": [
    "Next, we will define the ridge regression model and fit it with the same data. "
   ]
  },
  {
   "cell_type": "markdown",
   "id": "dcd00a66",
   "metadata": {},
   "source": [
    "#### Ridge Regression"
   ]
  },
  {
   "cell_type": "code",
   "execution_count": 19,
   "id": "62f8756c",
   "metadata": {},
   "outputs": [
    {
     "name": "stdout",
     "output_type": "stream",
     "text": [
      "[-7.08294081e+01 -1.19321559e+03  1.05814057e+03  7.38658980e-01\n",
      "  5.01460340e-02  4.49020995e-02]\n"
     ]
    },
    {
     "name": "stderr",
     "output_type": "stream",
     "text": [
      "C:\\Users\\thaku\\anaconda3\\envs\\deep-learning\\lib\\site-packages\\sklearn\\linear_model\\_base.py:141: FutureWarning: 'normalize' was deprecated in version 1.0 and will be removed in 1.2.\n",
      "If you wish to scale the data, use Pipeline with a StandardScaler in a preprocessing stage. To reproduce the previous behavior:\n",
      "\n",
      "from sklearn.pipeline import make_pipeline\n",
      "\n",
      "model = make_pipeline(StandardScaler(with_mean=False), Ridge())\n",
      "\n",
      "If you wish to pass a sample_weight parameter, you need to pass it as a fit parameter to each step of the pipeline as follows:\n",
      "\n",
      "kwargs = {s[0] + '__sample_weight': sample_weight for s in model.steps}\n",
      "model.fit(X, y, **kwargs)\n",
      "\n",
      "Set parameter alpha to: original_alpha * n_samples. \n",
      "  warnings.warn(\n"
     ]
    }
   ],
   "source": [
    "# Defining and training the ridge regressor\n",
    "from sklearn.linear_model import Ridge\n",
    "\n",
    "ridgeReg = Ridge(alpha=0.02, normalize=True)\n",
    "ridgeReg.fit(X_train, y_train)\n",
    "\n",
    "# Checking the regression coefficients of the fitted model\n",
    "print(ridgeReg.coef_)"
   ]
  },
  {
   "cell_type": "markdown",
   "id": "28b5be09",
   "metadata": {},
   "source": [
    "Using the fitted regression model, we will make predictions with the test data and find the accuracy in predictions using different evaluation methods, mean squared error (MSE), root mean squared error (RMSE), R-squared and adjusted R-squared."
   ]
  },
  {
   "cell_type": "code",
   "execution_count": 20,
   "id": "2812719a",
   "metadata": {},
   "outputs": [
    {
     "name": "stdout",
     "output_type": "stream",
     "text": [
      "Mean Squared Error is: 96455376.14174953\n",
      "Root Mean Squared Error is: 9821.169794976031\n",
      "R-Squared is: 0.9245789270416158\n",
      "Adjusted R-Squared is: 0.9108660046855459\n"
     ]
    }
   ],
   "source": [
    "# Making predictions on the test data\n",
    "y_pred = ridgeReg.predict(X_test)\n",
    "\n",
    "# Mean Squared Error (MSE)\n",
    "MSE_rd = mean_squared_error(y_test, y_pred)\n",
    "print('Mean Squared Error is:', MSE_rd)\n",
    "\n",
    "# Root Mean Squared Error (RMSE)\n",
    "RMSE_rd = math.sqrt(MSE_rd)\n",
    "print('Root Mean Squared Error is:', RMSE_rd)\n",
    "\n",
    "# R-Squared\n",
    "r2_rd = r2_score(y_test, y_pred)\n",
    "print('R-Squared is:', r2_rd)\n",
    "\n",
    "# Adjusted R-Squared\n",
    "adj_rd = 1-(\n",
    "         (1-r2_rd)*(X_train.shape[0]-1)/\n",
    "          (X_train.shape[0]-X_train.shape[1]-1)\n",
    "          )\n",
    "print('Adjusted R-Squared is:', adj_rd)"
   ]
  },
  {
   "cell_type": "markdown",
   "id": "7ca7c9e3",
   "metadata": {},
   "source": [
    "#### ElasticNet Regression\n",
    "\n",
    "After going through the linear, lasso and ridge regression models, we will now fit the elastic net regression model in the end. "
   ]
  },
  {
   "cell_type": "code",
   "execution_count": 21,
   "id": "29fdd53f",
   "metadata": {},
   "outputs": [
    {
     "name": "stdout",
     "output_type": "stream",
     "text": [
      "[-1.53194217e+02 -1.10936248e+03  5.42458980e+02  7.73508579e-01\n",
      "  3.27921574e-02  3.65829933e-02]\n"
     ]
    },
    {
     "name": "stderr",
     "output_type": "stream",
     "text": [
      "C:\\Users\\thaku\\anaconda3\\envs\\deep-learning\\lib\\site-packages\\sklearn\\linear_model\\_base.py:148: FutureWarning: 'normalize' was deprecated in version 1.0 and will be removed in 1.2. Please leave the normalize parameter to its default value to silence this warning. The default behavior of this estimator is to not do any normalization. If normalization is needed please use sklearn.preprocessing.StandardScaler instead.\n",
      "  warnings.warn(\n"
     ]
    }
   ],
   "source": [
    "# Defining and training the elastic net regressor\n",
    "from sklearn.linear_model import ElasticNet\n",
    "\n",
    "ENreg = ElasticNet(alpha=0.31, l1_ratio=0.5, normalize=False)\n",
    "ENreg.fit(X_train,y_train)\n",
    "\n",
    "# Checking the regression coefficients of the fitted model\n",
    "print(lassoReg.coef_)"
   ]
  },
  {
   "cell_type": "markdown",
   "id": "a64f2301",
   "metadata": {},
   "source": [
    "Using the fitted regression model, we will make predictions with the test data and find the accuracy in predictions using different evaluation methods, mean squared error (MSE), root mean squared error (RMSE), R-squared and adjusted R-squared."
   ]
  },
  {
   "cell_type": "code",
   "execution_count": 22,
   "id": "643f9100",
   "metadata": {},
   "outputs": [
    {
     "name": "stdout",
     "output_type": "stream",
     "text": [
      "Mean Squared Error is: 96455376.14174953\n",
      "Root Mean Squared Error is: 9821.169794976031\n",
      "R-Squared is: 0.9245789270416158\n",
      "Adjusted R-Squared is: 0.9108660046855459\n"
     ]
    }
   ],
   "source": [
    "# Making predictions on the test data\n",
    "y_pred = ridgeReg.predict(X_test)\n",
    "\n",
    "# Mean Squared Error (MSE)\n",
    "MSE_er = mean_squared_error(y_test, y_pred)\n",
    "print('Mean Squared Error is:', MSE_er)\n",
    "\n",
    "# Root Mean Squared Error (RMSE)\n",
    "RMSE_er = math.sqrt(MSE_er)\n",
    "print('Root Mean Squared Error is:', RMSE_er)\n",
    "\n",
    "# R-Squared\n",
    "r2_er = r2_score(y_test, y_pred)\n",
    "print('R-Squared is:', r2_er)\n",
    "\n",
    "# Adjusted R-Squared\n",
    "adj_er = 1-(\n",
    "         (1-r2_er)*(X_train.shape[0]-1)/\n",
    "          (X_train.shape[0]-X_train.shape[1]-1)\n",
    "          )\n",
    "print('Adjusted R-Squared is:', adj_er)"
   ]
  },
  {
   "cell_type": "markdown",
   "id": "b8d07604",
   "metadata": {},
   "source": [
    "#### Analyzing all together\n",
    "\n",
    "Once we have gone through all these models, let us analyze their performance together. First, we will put the error metrics all together to compare. "
   ]
  },
  {
   "cell_type": "code",
   "execution_count": 23,
   "id": "71816c5a",
   "metadata": {},
   "outputs": [
    {
     "data": {
      "text/html": [
       "<div>\n",
       "<style scoped>\n",
       "    .dataframe tbody tr th:only-of-type {\n",
       "        vertical-align: middle;\n",
       "    }\n",
       "\n",
       "    .dataframe tbody tr th {\n",
       "        vertical-align: top;\n",
       "    }\n",
       "\n",
       "    .dataframe thead th {\n",
       "        text-align: right;\n",
       "    }\n",
       "</style>\n",
       "<table border=\"1\" class=\"dataframe\">\n",
       "  <thead>\n",
       "    <tr style=\"text-align: right;\">\n",
       "      <th></th>\n",
       "      <th>Regressor</th>\n",
       "      <th>MSE</th>\n",
       "      <th>RMSE</th>\n",
       "      <th>R2</th>\n",
       "      <th>Adj R2</th>\n",
       "    </tr>\n",
       "  </thead>\n",
       "  <tbody>\n",
       "    <tr>\n",
       "      <th>0</th>\n",
       "      <td>Linear Regression</td>\n",
       "      <td>8.350286e+07</td>\n",
       "      <td>9137.990153</td>\n",
       "      <td>0.934707</td>\n",
       "      <td>0.922835</td>\n",
       "    </tr>\n",
       "    <tr>\n",
       "      <th>1</th>\n",
       "      <td>Lasso Regression</td>\n",
       "      <td>8.344752e+07</td>\n",
       "      <td>9134.961451</td>\n",
       "      <td>0.934750</td>\n",
       "      <td>0.922887</td>\n",
       "    </tr>\n",
       "    <tr>\n",
       "      <th>2</th>\n",
       "      <td>Ridge Regression</td>\n",
       "      <td>9.645538e+07</td>\n",
       "      <td>9821.169795</td>\n",
       "      <td>0.924579</td>\n",
       "      <td>0.910866</td>\n",
       "    </tr>\n",
       "    <tr>\n",
       "      <th>3</th>\n",
       "      <td>ElasticNet Regression</td>\n",
       "      <td>9.645538e+07</td>\n",
       "      <td>9821.169795</td>\n",
       "      <td>0.924579</td>\n",
       "      <td>0.910866</td>\n",
       "    </tr>\n",
       "  </tbody>\n",
       "</table>\n",
       "</div>"
      ],
      "text/plain": [
       "               Regressor           MSE         RMSE        R2    Adj R2\n",
       "0      Linear Regression  8.350286e+07  9137.990153  0.934707  0.922835\n",
       "1       Lasso Regression  8.344752e+07  9134.961451  0.934750  0.922887\n",
       "2       Ridge Regression  9.645538e+07  9821.169795  0.924579  0.910866\n",
       "3  ElasticNet Regression  9.645538e+07  9821.169795  0.924579  0.910866"
      ]
     },
     "execution_count": 23,
     "metadata": {},
     "output_type": "execute_result"
    }
   ],
   "source": [
    "# Binding all together\n",
    "pd.DataFrame(data={'Regressor' : ['Linear Regression',\n",
    "                                 'Lasso Regression',\n",
    "                                 'Ridge Regression',\n",
    "                                 'ElasticNet Regression'],\n",
    "                                \n",
    "                   'MSE' : [MSE_lr, MSE_ls, MSE_rd, MSE_er],\n",
    "                   'RMSE' : [RMSE_lr, RMSE_ls, RMSE_rd, RMSE_er],\n",
    "                   'R2' : [r2_lr, r2_ls, r2_rd, r2_er],\n",
    "                   'Adj R2' : [adj_lr, adj_ls, adj_rd, adj_er]\n",
    "                  })"
   ]
  },
  {
   "cell_type": "markdown",
   "id": "47b1f31a",
   "metadata": {},
   "source": [
    "Next, we will obtain the model score and put all of them together to analyze. "
   ]
  },
  {
   "cell_type": "code",
   "execution_count": 24,
   "id": "dfe957f5",
   "metadata": {},
   "outputs": [
    {
     "data": {
      "text/html": [
       "<div>\n",
       "<style scoped>\n",
       "    .dataframe tbody tr th:only-of-type {\n",
       "        vertical-align: middle;\n",
       "    }\n",
       "\n",
       "    .dataframe tbody tr th {\n",
       "        vertical-align: top;\n",
       "    }\n",
       "\n",
       "    .dataframe thead th {\n",
       "        text-align: right;\n",
       "    }\n",
       "</style>\n",
       "<table border=\"1\" class=\"dataframe\">\n",
       "  <thead>\n",
       "    <tr style=\"text-align: right;\">\n",
       "      <th></th>\n",
       "      <th>Regressor</th>\n",
       "      <th>Score</th>\n",
       "    </tr>\n",
       "  </thead>\n",
       "  <tbody>\n",
       "    <tr>\n",
       "      <th>0</th>\n",
       "      <td>Linear Regression</td>\n",
       "      <td>0.934707</td>\n",
       "    </tr>\n",
       "    <tr>\n",
       "      <th>1</th>\n",
       "      <td>Lasso Regression</td>\n",
       "      <td>0.934750</td>\n",
       "    </tr>\n",
       "    <tr>\n",
       "      <th>2</th>\n",
       "      <td>Ridge Regression</td>\n",
       "      <td>0.924579</td>\n",
       "    </tr>\n",
       "    <tr>\n",
       "      <th>3</th>\n",
       "      <td>ElasticNet Regression</td>\n",
       "      <td>0.936575</td>\n",
       "    </tr>\n",
       "  </tbody>\n",
       "</table>\n",
       "</div>"
      ],
      "text/plain": [
       "               Regressor     Score\n",
       "0      Linear Regression  0.934707\n",
       "1       Lasso Regression  0.934750\n",
       "2       Ridge Regression  0.924579\n",
       "3  ElasticNet Regression  0.936575"
      ]
     },
     "execution_count": 24,
     "metadata": {},
     "output_type": "execute_result"
    }
   ],
   "source": [
    "# Putting the scores of all models together\n",
    "pd.DataFrame(data={'Regressor' : ['Linear Regression',\n",
    "                                 'Lasso Regression',\n",
    "                                 'Ridge Regression',\n",
    "                                 'ElasticNet Regression'],\n",
    "                                \n",
    "                   'Score' : [regressor.score(X_test, y_test),\n",
    "                              lassoReg.score(X_test, y_test),\n",
    "                              ridgeReg.score(X_test, y_test),\n",
    "                              ENreg.score(X_test, y_test)]\n",
    "                  })"
   ]
  },
  {
   "cell_type": "markdown",
   "id": "dded1e7c",
   "metadata": {},
   "source": [
    "Finally, let’s plot their scores together. "
   ]
  },
  {
   "cell_type": "code",
   "execution_count": 26,
   "id": "17fc6f85",
   "metadata": {},
   "outputs": [
    {
     "data": {
      "image/png": "[encoded data removed]",
      "text/plain": [
       "<Figure size 720x360 with 1 Axes>"
      ]
     },
     "metadata": {
      "needs_background": "light"
     },
     "output_type": "display_data"
    }
   ],
   "source": [
    "# Plotting the scores\n",
    "import matplotlib.pyplot as plt\n",
    "\n",
    "models = ['Linear Regression', 'Lasso Regression', 'Ridge Regression', 'Elastic Regression']\n",
    "scores = [regressor.score(X_test, y_test),\n",
    "   lassoReg.score(X_test, y_test),\n",
    "   ridgeReg.score(X_test, y_test),\n",
    "   ENreg.score(X_test, y_test)]\n",
    "\n",
    "plt.figure(figsize=(10,5))\n",
    "plt.bar(models, scores)\n",
    "plt.xlabel('Regression Models', fontsize=15)\n",
    "plt.ylabel('Score', fontsize=15)\n",
    "plt.tight_layout()\n",
    "plt.show()"
   ]
  },
  {
   "cell_type": "markdown",
   "id": "5ed2d130",
   "metadata": {},
   "source": [
    "As we can see while analyzing their performance together, all the models have shown almost equal performance. The intuition of showing their working all together to demonstrate how to use them when fitting a regression model. We can use all these regularization techniques and check which one works well and helps in achieving a better performance. Of course, the elastic net regression will work best because it combines the power of both lasso and ridge regression.\n",
    "\n"
   ]
  }
 ],
 "metadata": {
  "kernelspec": {
   "display_name": "Python 3 (ipykernel)",
   "language": "python",
   "name": "python3"
  },
  "language_info": {
   "codemirror_mode": {
    "name": "ipython",
    "version": 3
   },
   "file_extension": ".py",
   "mimetype": "text/x-python",
   "name": "python",
   "nbconvert_exporter": "python",
   "pygments_lexer": "ipython3",
   "version": "3.9.12"
  }
 },
 "nbformat": 4,
 "nbformat_minor": 5
}
