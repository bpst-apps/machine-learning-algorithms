{
 "cells": [
  {
   "cell_type": "markdown",
   "id": "f9622e8d",
   "metadata": {},
   "source": [
    "## Hands-on implementation of Gaussian Mixture Model in clustering\n",
    "\n",
    "Our task is to perform clustering on the real-world datasets using Gaussian Mixture. For this, we are considering the IRIS flower dataset which holds the dimensional information of 3 different species of flower."
   ]
  },
  {
   "cell_type": "markdown",
   "id": "9fa6f13f",
   "metadata": {},
   "source": [
    "#### Read and load the data\n",
    "\n",
    "As usual first we will load the data stored in a CSV file using pandas."
   ]
  },
  {
   "cell_type": "code",
   "execution_count": 1,
   "id": "89aafbf2",
   "metadata": {},
   "outputs": [],
   "source": [
    "# Import pandas\n",
    "import pandas as pd\n",
    "\n",
    "# Read the data\n",
    "data = pd.read_csv('Iris.csv')"
   ]
  },
  {
   "cell_type": "markdown",
   "id": "16bcca39",
   "metadata": {},
   "source": [
    "Review the first 5 rows of the dataset."
   ]
  },
  {
   "cell_type": "code",
   "execution_count": 2,
   "id": "42c26138",
   "metadata": {},
   "outputs": [
    {
     "data": {
      "text/html": [
       "<div>\n",
       "<style scoped>\n",
       "    .dataframe tbody tr th:only-of-type {\n",
       "        vertical-align: middle;\n",
       "    }\n",
       "\n",
       "    .dataframe tbody tr th {\n",
       "        vertical-align: top;\n",
       "    }\n",
       "\n",
       "    .dataframe thead th {\n",
       "        text-align: right;\n",
       "    }\n",
       "</style>\n",
       "<table border=\"1\" class=\"dataframe\">\n",
       "  <thead>\n",
       "    <tr style=\"text-align: right;\">\n",
       "      <th></th>\n",
       "      <th>Id</th>\n",
       "      <th>SepalLengthCm</th>\n",
       "      <th>SepalWidthCm</th>\n",
       "      <th>PetalLengthCm</th>\n",
       "      <th>PetalWidthCm</th>\n",
       "      <th>Species</th>\n",
       "    </tr>\n",
       "  </thead>\n",
       "  <tbody>\n",
       "    <tr>\n",
       "      <th>0</th>\n",
       "      <td>1</td>\n",
       "      <td>5.1</td>\n",
       "      <td>3.5</td>\n",
       "      <td>1.4</td>\n",
       "      <td>0.2</td>\n",
       "      <td>Iris-setosa</td>\n",
       "    </tr>\n",
       "    <tr>\n",
       "      <th>1</th>\n",
       "      <td>2</td>\n",
       "      <td>4.9</td>\n",
       "      <td>3.0</td>\n",
       "      <td>1.4</td>\n",
       "      <td>0.2</td>\n",
       "      <td>Iris-setosa</td>\n",
       "    </tr>\n",
       "    <tr>\n",
       "      <th>2</th>\n",
       "      <td>3</td>\n",
       "      <td>4.7</td>\n",
       "      <td>3.2</td>\n",
       "      <td>1.3</td>\n",
       "      <td>0.2</td>\n",
       "      <td>Iris-setosa</td>\n",
       "    </tr>\n",
       "    <tr>\n",
       "      <th>3</th>\n",
       "      <td>4</td>\n",
       "      <td>4.6</td>\n",
       "      <td>3.1</td>\n",
       "      <td>1.5</td>\n",
       "      <td>0.2</td>\n",
       "      <td>Iris-setosa</td>\n",
       "    </tr>\n",
       "    <tr>\n",
       "      <th>4</th>\n",
       "      <td>5</td>\n",
       "      <td>5.0</td>\n",
       "      <td>3.6</td>\n",
       "      <td>1.4</td>\n",
       "      <td>0.2</td>\n",
       "      <td>Iris-setosa</td>\n",
       "    </tr>\n",
       "  </tbody>\n",
       "</table>\n",
       "</div>"
      ],
      "text/plain": [
       "   Id  SepalLengthCm  SepalWidthCm  PetalLengthCm  PetalWidthCm      Species\n",
       "0   1            5.1           3.5            1.4           0.2  Iris-setosa\n",
       "1   2            4.9           3.0            1.4           0.2  Iris-setosa\n",
       "2   3            4.7           3.2            1.3           0.2  Iris-setosa\n",
       "3   4            4.6           3.1            1.5           0.2  Iris-setosa\n",
       "4   5            5.0           3.6            1.4           0.2  Iris-setosa"
      ]
     },
     "execution_count": 2,
     "metadata": {},
     "output_type": "execute_result"
    }
   ],
   "source": [
    "# visualize the samples\n",
    "data.head()"
   ]
  },
  {
   "cell_type": "markdown",
   "id": "8c8ca58d",
   "metadata": {},
   "source": [
    "Let’s quickly check the shape of the data frame."
   ]
  },
  {
   "cell_type": "code",
   "execution_count": 3,
   "id": "121a7a40",
   "metadata": {},
   "outputs": [
    {
     "data": {
      "text/plain": [
       "(150, 6)"
      ]
     },
     "execution_count": 3,
     "metadata": {},
     "output_type": "execute_result"
    }
   ],
   "source": [
    "# check the shape of the data\n",
    "data.shape"
   ]
  },
  {
   "cell_type": "markdown",
   "id": "5e23357d",
   "metadata": {},
   "source": [
    "#### Defining input features\n",
    "\n",
    "From the above output, there are 6 columns out of which we need to use 4 columns named Sepal’s length & width and Petal’s length & width to create clusters. These four columns will be used as input to the Hierarchical algorithm.  "
   ]
  },
  {
   "cell_type": "code",
   "execution_count": 4,
   "id": "5d2635e7",
   "metadata": {},
   "outputs": [
    {
     "data": {
      "text/plain": [
       "(150, 4)"
      ]
     },
     "execution_count": 4,
     "metadata": {},
     "output_type": "execute_result"
    }
   ],
   "source": [
    "# Defining input (X) features\n",
    "X = data.iloc[:,1:5].values\n",
    "# size of X\n",
    "X.shape"
   ]
  },
  {
   "cell_type": "markdown",
   "id": "a79759df",
   "metadata": {},
   "source": [
    "As we can see we have successfully created the input features set."
   ]
  },
  {
   "cell_type": "markdown",
   "id": "d4b4df68",
   "metadata": {},
   "source": [
    "#### Initializing and training the Gaussian mixture model\n",
    "\n",
    "Before starting with modelling let’s take a look at data points distribution using a scatter plot."
   ]
  },
  {
   "cell_type": "code",
   "execution_count": 5,
   "id": "3b1e1afc",
   "metadata": {},
   "outputs": [
    {
     "data": {
      "text/plain": [
       "Text(0, 0.5, 'Sepal Length')"
      ]
     },
     "execution_count": 5,
     "metadata": {},
     "output_type": "execute_result"
    },
    {
     "data": {
      "image/png": "[encoded data removed]",
      "text/plain": [
       "<Figure size 432x288 with 1 Axes>"
      ]
     },
     "metadata": {
      "needs_background": "light"
     },
     "output_type": "display_data"
    }
   ],
   "source": [
    "# check the distribution\n",
    "import matplotlib.pyplot as plt\n",
    "plt.scatter(X[:,0],X[:,1])\n",
    "plt.xlabel('Sepal Width')\n",
    "plt.ylabel('Sepal Length')"
   ]
  },
  {
   "cell_type": "markdown",
   "id": "601166b0",
   "metadata": {},
   "source": [
    "From the above plot, two clusters can be easily identified but there should be three clusters. Now, let's check whether GMM can catch all those clusters. Below we will import GMM from the sklearn library and will initialize it with 3 components."
   ]
  },
  {
   "cell_type": "code",
   "execution_count": 6,
   "id": "e143de38",
   "metadata": {},
   "outputs": [],
   "source": [
    "# performing GMM\n",
    "from sklearn.mixture import GaussianMixture\n",
    "GMM = GaussianMixture(n_components=3)"
   ]
  },
  {
   "cell_type": "markdown",
   "id": "9c8d2fc1",
   "metadata": {},
   "source": [
    "Now we will train the model on input patterns. "
   ]
  },
  {
   "cell_type": "code",
   "execution_count": 7,
   "id": "c81be52e",
   "metadata": {},
   "outputs": [
    {
     "name": "stderr",
     "output_type": "stream",
     "text": [
      "C:\\Users\\thaku\\anaconda3\\envs\\deep-learning\\lib\\site-packages\\sklearn\\cluster\\_kmeans.py:1332: UserWarning: KMeans is known to have a memory leak on Windows with MKL, when there are less chunks than available threads. You can avoid it by setting the environment variable OMP_NUM_THREADS=1.\n",
      "  warnings.warn(\n"
     ]
    }
   ],
   "source": [
    "# train model\n",
    "pred = GMM.fit_predict(X)"
   ]
  },
  {
   "cell_type": "markdown",
   "id": "86e711cc",
   "metadata": {},
   "source": [
    "#### Predicting and plotting clusters\n",
    "\n",
    "The GMM can also give the probability of data points belonging to a cluster and this can be accessed by the .predict_proba method. "
   ]
  },
  {
   "cell_type": "code",
   "execution_count": 8,
   "id": "7c6d2a0a",
   "metadata": {},
   "outputs": [
    {
     "data": {
      "text/plain": [
       "array([[1.00000000e+00, 1.02611131e-43, 6.14801384e-35],\n",
       "       [1.00000000e+00, 8.73156713e-31, 2.34417311e-28],\n",
       "       [1.00000000e+00, 1.05971018e-35, 4.13839264e-30],\n",
       "       [1.00000000e+00, 1.58901779e-31, 2.59053219e-26],\n",
       "       [1.00000000e+00, 4.03725313e-46, 2.71282921e-35],\n",
       "       [1.00000000e+00, 9.47551645e-45, 3.19896003e-35],\n",
       "       [1.00000000e+00, 9.62354242e-36, 6.10196256e-29],\n",
       "       [1.00000000e+00, 6.48099224e-40, 5.87734866e-32],\n",
       "       [1.00000000e+00, 2.33396902e-27, 2.64588679e-24],\n",
       "       [1.00000000e+00, 1.77676378e-35, 7.34400540e-29],\n",
       "       [1.00000000e+00, 4.13614175e-49, 5.75423962e-38]])"
      ]
     },
     "execution_count": 8,
     "metadata": {},
     "output_type": "execute_result"
    }
   ],
   "source": [
    "# Evaluating the component density for each sample\n",
    "GMM.predict_proba(X[:11,:])"
   ]
  },
  {
   "cell_type": "markdown",
   "id": "3775d077",
   "metadata": {},
   "source": [
    "Above we can see the probability for the first 10 data points and which belongs to clutter 0.\n",
    "\n",
    "Now we will obtain the prediction on the complete dataset and will observe the labels that the algorithm has given."
   ]
  },
  {
   "cell_type": "code",
   "execution_count": 9,
   "id": "8f567b15",
   "metadata": {},
   "outputs": [
    {
     "data": {
      "text/plain": [
       "2    55\n",
       "0    50\n",
       "1    45\n",
       "Name: labels, dtype: int64"
      ]
     },
     "execution_count": 9,
     "metadata": {},
     "output_type": "execute_result"
    }
   ],
   "source": [
    "# predicted result\n",
    "data['labels'] = pred\n",
    "\n",
    "# Cluster label\n",
    "data['labels'].value_counts()"
   ]
  },
  {
   "cell_type": "markdown",
   "id": "955b577a",
   "metadata": {},
   "source": [
    "As we can see in the above plot, the algorithm has successfully identified all three clusters which are labelled as 0,1,2.\n",
    "\n",
    "Now finally we plot the clusters using a scatter plot."
   ]
  },
  {
   "cell_type": "code",
   "execution_count": 10,
   "id": "1f835254",
   "metadata": {},
   "outputs": [
    {
     "data": {
      "text/plain": [
       "<matplotlib.legend.Legend at 0x248ad192340>"
      ]
     },
     "execution_count": 10,
     "metadata": {},
     "output_type": "execute_result"
    },
    {
     "data": {
      "image/png": "[encoded data removed]",
      "text/plain": [
       "<Figure size 432x288 with 1 Axes>"
      ]
     },
     "metadata": {
      "needs_background": "light"
     },
     "output_type": "display_data"
    }
   ],
   "source": [
    "import matplotlib.pyplot as plt\n",
    "# plotting the clusters\n",
    "plt.scatter(X[pred == 0, 0], X[pred == 0, 1], s = 50, c = 'green', label = 'Setosa')\n",
    "plt.scatter(X[pred == 1, 0], X[pred == 1, 1], s = 50, c = 'yellow', label = 'Versicolor')\n",
    "plt.scatter(X[pred == 2, 0], X[pred == 2, 1], s = 50, c = 'black', label = 'Virginica')\n",
    "plt.xlabel('Sepal Width')\n",
    "plt.ylabel('Sepal Length')\n",
    "plt.title('Identified iris clusters')\n",
    "plt.legend()"
   ]
  },
  {
   "cell_type": "markdown",
   "id": "2a8c9696",
   "metadata": {},
   "source": [
    "The GMM has successfully separated the three clusters. The points belonging to Versicolor and Virginica are overlapping but GMM has successfully separated those clusters. \n",
    "\n",
    "So this is how we can address the clustering problem using the Gaussian mixture model. "
   ]
  }
 ],
 "metadata": {
  "kernelspec": {
   "display_name": "Python 3 (ipykernel)",
   "language": "python",
   "name": "python3"
  },
  "language_info": {
   "codemirror_mode": {
    "name": "ipython",
    "version": 3
   },
   "file_extension": ".py",
   "mimetype": "text/x-python",
   "name": "python",
   "nbconvert_exporter": "python",
   "pygments_lexer": "ipython3",
   "version": "3.9.12"
  }
 },
 "nbformat": 4,
 "nbformat_minor": 5
}
