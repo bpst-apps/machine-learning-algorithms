{
 "cells": [
  {
   "cell_type": "markdown",
   "id": "61275d47",
   "metadata": {},
   "source": [
    "## Hands-on implementation hierarchical clustering\n",
    "\n",
    "In this notebook, we will implement hierarchical clustering in a real-world clustering problem. \n",
    "\n",
    "In this implementation, we are going to use the iris flower dataset. The dataset contains the dimensional information for 3 flower species - their sepal and petal widths and lengths. By using these features, our task is to create clusters and put each species of flower in a cluster. "
   ]
  },
  {
   "cell_type": "markdown",
   "id": "5b631281",
   "metadata": {},
   "source": [
    "####  Load and read the data\n",
    "\n",
    "First, we will load the data stored in a CSV file using the Pandas library."
   ]
  },
  {
   "cell_type": "code",
   "execution_count": 1,
   "id": "42eaf814",
   "metadata": {},
   "outputs": [],
   "source": [
    "# Import Pandas\n",
    "import pandas as pd\n",
    "\n",
    "# Read the data\n",
    "data = pd.read_csv('Iris.csv')"
   ]
  },
  {
   "cell_type": "markdown",
   "id": "008f4f9a",
   "metadata": {},
   "source": [
    "Let’s take a look at the top 5 rows of the dataset and also the shape of the same. "
   ]
  },
  {
   "cell_type": "code",
   "execution_count": 2,
   "id": "bc926368",
   "metadata": {},
   "outputs": [
    {
     "data": {
      "text/html": [
       "<div>\n",
       "<style scoped>\n",
       "    .dataframe tbody tr th:only-of-type {\n",
       "        vertical-align: middle;\n",
       "    }\n",
       "\n",
       "    .dataframe tbody tr th {\n",
       "        vertical-align: top;\n",
       "    }\n",
       "\n",
       "    .dataframe thead th {\n",
       "        text-align: right;\n",
       "    }\n",
       "</style>\n",
       "<table border=\"1\" class=\"dataframe\">\n",
       "  <thead>\n",
       "    <tr style=\"text-align: right;\">\n",
       "      <th></th>\n",
       "      <th>Id</th>\n",
       "      <th>SepalLengthCm</th>\n",
       "      <th>SepalWidthCm</th>\n",
       "      <th>PetalLengthCm</th>\n",
       "      <th>PetalWidthCm</th>\n",
       "      <th>Species</th>\n",
       "    </tr>\n",
       "  </thead>\n",
       "  <tbody>\n",
       "    <tr>\n",
       "      <th>0</th>\n",
       "      <td>1</td>\n",
       "      <td>5.1</td>\n",
       "      <td>3.5</td>\n",
       "      <td>1.4</td>\n",
       "      <td>0.2</td>\n",
       "      <td>Iris-setosa</td>\n",
       "    </tr>\n",
       "    <tr>\n",
       "      <th>1</th>\n",
       "      <td>2</td>\n",
       "      <td>4.9</td>\n",
       "      <td>3.0</td>\n",
       "      <td>1.4</td>\n",
       "      <td>0.2</td>\n",
       "      <td>Iris-setosa</td>\n",
       "    </tr>\n",
       "    <tr>\n",
       "      <th>2</th>\n",
       "      <td>3</td>\n",
       "      <td>4.7</td>\n",
       "      <td>3.2</td>\n",
       "      <td>1.3</td>\n",
       "      <td>0.2</td>\n",
       "      <td>Iris-setosa</td>\n",
       "    </tr>\n",
       "    <tr>\n",
       "      <th>3</th>\n",
       "      <td>4</td>\n",
       "      <td>4.6</td>\n",
       "      <td>3.1</td>\n",
       "      <td>1.5</td>\n",
       "      <td>0.2</td>\n",
       "      <td>Iris-setosa</td>\n",
       "    </tr>\n",
       "    <tr>\n",
       "      <th>4</th>\n",
       "      <td>5</td>\n",
       "      <td>5.0</td>\n",
       "      <td>3.6</td>\n",
       "      <td>1.4</td>\n",
       "      <td>0.2</td>\n",
       "      <td>Iris-setosa</td>\n",
       "    </tr>\n",
       "  </tbody>\n",
       "</table>\n",
       "</div>"
      ],
      "text/plain": [
       "   Id  SepalLengthCm  SepalWidthCm  PetalLengthCm  PetalWidthCm      Species\n",
       "0   1            5.1           3.5            1.4           0.2  Iris-setosa\n",
       "1   2            4.9           3.0            1.4           0.2  Iris-setosa\n",
       "2   3            4.7           3.2            1.3           0.2  Iris-setosa\n",
       "3   4            4.6           3.1            1.5           0.2  Iris-setosa\n",
       "4   5            5.0           3.6            1.4           0.2  Iris-setosa"
      ]
     },
     "execution_count": 2,
     "metadata": {},
     "output_type": "execute_result"
    }
   ],
   "source": [
    "# Visualize the samples\n",
    "data.head()"
   ]
  },
  {
   "cell_type": "code",
   "execution_count": 3,
   "id": "8f1a0034",
   "metadata": {},
   "outputs": [
    {
     "data": {
      "text/plain": [
       "(150, 6)"
      ]
     },
     "execution_count": 3,
     "metadata": {},
     "output_type": "execute_result"
    }
   ],
   "source": [
    "# Check the shape of data\n",
    "data.shape"
   ]
  },
  {
   "cell_type": "markdown",
   "id": "f7879bb0",
   "metadata": {},
   "source": [
    "#### Defining input features\n",
    "\n",
    "From the above output, there are 6 columns out of which we need to use 4 columns named Sepal’s length & width and Petal’s length & width to create clusters. These four columns will be used as input to the Hierarchical algorithm.  "
   ]
  },
  {
   "cell_type": "code",
   "execution_count": 4,
   "id": "88a20eea",
   "metadata": {},
   "outputs": [
    {
     "data": {
      "text/plain": [
       "(150, 4)"
      ]
     },
     "execution_count": 4,
     "metadata": {},
     "output_type": "execute_result"
    }
   ],
   "source": [
    "# Defining input (X) features\n",
    "X = data.iloc[:,1:5].values\n",
    "\n",
    "# Size of X\n",
    "X.shape"
   ]
  },
  {
   "cell_type": "markdown",
   "id": "aacdb885",
   "metadata": {},
   "source": [
    "As we can see we have successfully created the input features set."
   ]
  },
  {
   "cell_type": "markdown",
   "id": "606cffce",
   "metadata": {},
   "source": [
    "#### Identifying no of clusters using Dendrogram\n",
    "\n",
    "Now as we have created an input feature set, here we will create a Dendrogram of it. The dendrogram is a 2D plot that looks like a tree structure. On the y-axis, we have the Euclidean distance between data points, and on the x-axis, we have all data points.  \n",
    "\n",
    "In Hierarchical clustering, a dendrogram is basically used to find the optimal number of clusters. To create and plot a dendrogram, we are using the dendrogram function from the SciPy library which computes graphs directly. "
   ]
  },
  {
   "cell_type": "code",
   "execution_count": 5,
   "id": "e2c6d4a2",
   "metadata": {},
   "outputs": [
    {
     "data": {
      "image/png": "[encoded data removed]",
      "text/plain": [
       "<Figure size 432x288 with 1 Axes>"
      ]
     },
     "metadata": {
      "needs_background": "light"
     },
     "output_type": "display_data"
    }
   ],
   "source": [
    "# Obtaining possible clusters\n",
    "from scipy.cluster import hierarchy   \n",
    "import matplotlib.pyplot as plt\n",
    "dendro = hierarchy.dendrogram(hierarchy.linkage(X, method='ward'))  \n",
    "plt.title(\"Dendrogram Plot\")  \n",
    "plt.ylabel(\"Euclidean Distances\")  \n",
    "plt.xlabel(\"Flowers relation\") \n",
    "plt.show() "
   ]
  },
  {
   "cell_type": "markdown",
   "id": "97f26885",
   "metadata": {},
   "source": [
    "In the above dendrogram function, we have passed the linkage function which takes the input features and linkage criteria. \n",
    "\n",
    "Now from the above dendrogram, we can find an optimal number of clusters to perform agglomerative clustering. For that, we have to look at the maximum vertical distance that does not cut any projection of horizontal bars (node junctions). "
   ]
  },
  {
   "cell_type": "code",
   "execution_count": 6,
   "id": "7a8fd992",
   "metadata": {},
   "outputs": [
    {
     "data": {
      "image/png": "[encoded data removed]",
      "text/plain": [
       "<Figure size 432x288 with 1 Axes>"
      ]
     },
     "metadata": {
      "needs_background": "light"
     },
     "output_type": "display_data"
    }
   ],
   "source": [
    "# Getting optimal number of clusters\n",
    "dendro = hierarchy.dendrogram(hierarchy.linkage(X, method='ward')) \n",
    "plt.title(\"Dendrogram Plot\") \n",
    "plt.ylabel(\"Euclidean Distance\") \n",
    "plt.xlabel(\"Flowers Relation\")\n",
    "plt.axhline(y=9,linestyle='dotted')\n",
    "plt.show()"
   ]
  },
  {
   "cell_type": "markdown",
   "id": "cc9bba6d",
   "metadata": {},
   "source": [
    "In the above figure, A horizontal line has been drawn and a threshold distance has been defined (Generally, we try to set the threshold in such a way that it cuts the tallest vertical line). This threshold has been set to 9 and a horizontal line has been drawn.  \n",
    "\n",
    "Now to get the optimal number of clusters we have to trace vertical lines that cut the dotted line, the number of lines that cut the dotted line is actually a number of clusters. Here it is 3, so we can set the number of clusters to be 3 based on it. We will train the model. "
   ]
  },
  {
   "cell_type": "markdown",
   "id": "8f0da077",
   "metadata": {},
   "source": [
    "#### Initializing and training the Agglomerative Hierarchical Clustering (AHC)\n",
    "\n",
    "Now we are with the required optimal number of clusters. We now import Agglomerative clustering from the sklearn library and will train on our training patterns.  "
   ]
  },
  {
   "cell_type": "code",
   "execution_count": 7,
   "id": "e8dc2498",
   "metadata": {},
   "outputs": [],
   "source": [
    "# Performing ahc\n",
    "from sklearn.cluster import AgglomerativeClustering\n",
    "ahc = AgglomerativeClustering(n_clusters = 3, affinity = 'euclidean', linkage = 'ward')\n",
    "\n",
    "# Train and predict clusters\n",
    "pred = ahc.fit_predict(X) "
   ]
  },
  {
   "cell_type": "markdown",
   "id": "1613aa10",
   "metadata": {},
   "source": [
    "#### Plotting the clusters\n",
    "\n",
    "As we have trained and generated the predictions, here we will plot those clusters. Before plotting, let's take look at the predictions."
   ]
  },
  {
   "cell_type": "code",
   "execution_count": 8,
   "id": "fd5ee8ce",
   "metadata": {},
   "outputs": [
    {
     "data": {
      "text/plain": [
       "array([1, 1, 1, 1, 1, 1, 1, 1, 1, 1, 1, 1, 1, 1, 1, 1, 1, 1, 1, 1, 1, 1,\n",
       "       1, 1, 1, 1, 1, 1, 1, 1, 1, 1, 1, 1, 1, 1, 1, 1, 1, 1, 1, 1, 1, 1,\n",
       "       1, 1, 1, 1, 1, 1, 0, 0, 0, 0, 0, 0, 0, 0, 0, 0, 0, 0, 0, 0, 0, 0,\n",
       "       0, 0, 0, 0, 0, 0, 0, 0, 0, 0, 0, 2, 0, 0, 0, 0, 0, 0, 0, 0, 0, 0,\n",
       "       0, 0, 0, 0, 0, 0, 0, 0, 0, 0, 0, 0, 2, 0, 2, 2, 2, 2, 0, 2, 2, 2,\n",
       "       2, 2, 2, 0, 0, 2, 2, 2, 2, 0, 2, 0, 2, 0, 2, 2, 0, 0, 2, 2, 2, 2,\n",
       "       2, 0, 0, 2, 2, 2, 0, 2, 2, 2, 0, 2, 2, 2, 0, 2, 2, 0], dtype=int64)"
      ]
     },
     "execution_count": 8,
     "metadata": {},
     "output_type": "execute_result"
    }
   ],
   "source": [
    "# Predicting result\n",
    "pred"
   ]
  },
  {
   "cell_type": "markdown",
   "id": "c405223f",
   "metadata": {},
   "source": [
    "In the above results,  0,1,2 are labels for clusters for respective data points. Now we are going to visualize these identified clusters using a scatter plot. We have trained the algorithm for 4 features, in the scatter plot we will make use of 2 features namely Sepal length and Petal length to visualize the cluster. "
   ]
  },
  {
   "cell_type": "code",
   "execution_count": 9,
   "id": "43a2b8be",
   "metadata": {},
   "outputs": [
    {
     "data": {
      "text/plain": [
       "<matplotlib.legend.Legend at 0x2da7f377100>"
      ]
     },
     "execution_count": 9,
     "metadata": {},
     "output_type": "execute_result"
    },
    {
     "data": {
      "image/png": "[encoded data removed]",
      "text/plain": [
       "<Figure size 432x288 with 1 Axes>"
      ]
     },
     "metadata": {
      "needs_background": "light"
     },
     "output_type": "display_data"
    }
   ],
   "source": [
    "# Plotting the clusters \n",
    "plt.scatter(X[pred == 0, 0], X[pred == 0, 2], s = 80, c = 'green', label = 'Setosa')\n",
    "plt.scatter(X[pred == 1, 0], X[pred == 1, 2], s = 80, c = 'cyan', label = 'Versicolor')\n",
    "plt.scatter(X[pred == 2, 0], X[pred == 2, 2], s = 80, c = 'red', label = 'Virginica')\n",
    "plt.xlabel('Sepal Length')\n",
    "plt.ylabel('Petal Length')\n",
    "plt.title('Identified Iris clusters')\n",
    "plt.legend()"
   ]
  },
  {
   "cell_type": "markdown",
   "id": "695a68ce",
   "metadata": {},
   "source": [
    "From the above plot, we can see how agglomerative clusters have separated the data points according to their characteristics. \n",
    "\n",
    "So this is how we can implement the Hierarchical clustering algorithm for unsupervised learning."
   ]
  }
 ],
 "metadata": {
  "kernelspec": {
   "display_name": "Python 3 (ipykernel)",
   "language": "python",
   "name": "python3"
  },
  "language_info": {
   "codemirror_mode": {
    "name": "ipython",
    "version": 3
   },
   "file_extension": ".py",
   "mimetype": "text/x-python",
   "name": "python",
   "nbconvert_exporter": "python",
   "pygments_lexer": "ipython3",
   "version": "3.9.12"
  }
 },
 "nbformat": 4,
 "nbformat_minor": 5
}
