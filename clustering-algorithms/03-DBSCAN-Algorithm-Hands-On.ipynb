{
 "cells": [
  {
   "cell_type": "markdown",
   "id": "29e2dd43",
   "metadata": {},
   "source": [
    "## Hands-on implementation of DBSCAN\n",
    "\n",
    "Basically, clusters are highly dense data points in particular spaces which are separated by lightly dense data points, noises, or outliers. The algorithm such as K-means clustering and Hierarchical clustering works well on the structured clusters but by the application of noise or outliers, their performance gets affected. Whereas the DBSCAN groups the data based on how surrounding points are densely related to the point and it is also able to detect the noise or outliers and label such data points as -1.  \n",
    "\n",
    "As we discussed, the DBSCAN essentially takes two parameters: the first is Eps which is the radius of the circle and the second is the min_samples I,e minimum number of neighbours to be considered with the radius. \n",
    "\n",
    "So to deal with this algorithm we are considering the same dataset from our previous module i,e Iris flower dataset and our task is to create the possible clusters by the application of DBSCAN. "
   ]
  },
  {
   "cell_type": "markdown",
   "id": "ea370aa0",
   "metadata": {},
   "source": [
    "#### Load and read the data\n",
    "\n",
    "As usual first we will load the data stored in a CSV file using pandas."
   ]
  },
  {
   "cell_type": "code",
   "execution_count": 1,
   "id": "d89865cc",
   "metadata": {},
   "outputs": [],
   "source": [
    "# Importing Pandas\n",
    "import pandas as pd\n",
    "\n",
    "# Read the data\n",
    "data = pd.read_csv('Iris.csv')"
   ]
  },
  {
   "cell_type": "markdown",
   "id": "833bead7",
   "metadata": {},
   "source": [
    "Review the first 5 rows of the dataset."
   ]
  },
  {
   "cell_type": "code",
   "execution_count": 2,
   "id": "f0cd0928",
   "metadata": {},
   "outputs": [
    {
     "data": {
      "text/html": [
       "<div>\n",
       "<style scoped>\n",
       "    .dataframe tbody tr th:only-of-type {\n",
       "        vertical-align: middle;\n",
       "    }\n",
       "\n",
       "    .dataframe tbody tr th {\n",
       "        vertical-align: top;\n",
       "    }\n",
       "\n",
       "    .dataframe thead th {\n",
       "        text-align: right;\n",
       "    }\n",
       "</style>\n",
       "<table border=\"1\" class=\"dataframe\">\n",
       "  <thead>\n",
       "    <tr style=\"text-align: right;\">\n",
       "      <th></th>\n",
       "      <th>Id</th>\n",
       "      <th>SepalLengthCm</th>\n",
       "      <th>SepalWidthCm</th>\n",
       "      <th>PetalLengthCm</th>\n",
       "      <th>PetalWidthCm</th>\n",
       "      <th>Species</th>\n",
       "    </tr>\n",
       "  </thead>\n",
       "  <tbody>\n",
       "    <tr>\n",
       "      <th>0</th>\n",
       "      <td>1</td>\n",
       "      <td>5.1</td>\n",
       "      <td>3.5</td>\n",
       "      <td>1.4</td>\n",
       "      <td>0.2</td>\n",
       "      <td>Iris-setosa</td>\n",
       "    </tr>\n",
       "    <tr>\n",
       "      <th>1</th>\n",
       "      <td>2</td>\n",
       "      <td>4.9</td>\n",
       "      <td>3.0</td>\n",
       "      <td>1.4</td>\n",
       "      <td>0.2</td>\n",
       "      <td>Iris-setosa</td>\n",
       "    </tr>\n",
       "    <tr>\n",
       "      <th>2</th>\n",
       "      <td>3</td>\n",
       "      <td>4.7</td>\n",
       "      <td>3.2</td>\n",
       "      <td>1.3</td>\n",
       "      <td>0.2</td>\n",
       "      <td>Iris-setosa</td>\n",
       "    </tr>\n",
       "    <tr>\n",
       "      <th>3</th>\n",
       "      <td>4</td>\n",
       "      <td>4.6</td>\n",
       "      <td>3.1</td>\n",
       "      <td>1.5</td>\n",
       "      <td>0.2</td>\n",
       "      <td>Iris-setosa</td>\n",
       "    </tr>\n",
       "    <tr>\n",
       "      <th>4</th>\n",
       "      <td>5</td>\n",
       "      <td>5.0</td>\n",
       "      <td>3.6</td>\n",
       "      <td>1.4</td>\n",
       "      <td>0.2</td>\n",
       "      <td>Iris-setosa</td>\n",
       "    </tr>\n",
       "  </tbody>\n",
       "</table>\n",
       "</div>"
      ],
      "text/plain": [
       "   Id  SepalLengthCm  SepalWidthCm  PetalLengthCm  PetalWidthCm      Species\n",
       "0   1            5.1           3.5            1.4           0.2  Iris-setosa\n",
       "1   2            4.9           3.0            1.4           0.2  Iris-setosa\n",
       "2   3            4.7           3.2            1.3           0.2  Iris-setosa\n",
       "3   4            4.6           3.1            1.5           0.2  Iris-setosa\n",
       "4   5            5.0           3.6            1.4           0.2  Iris-setosa"
      ]
     },
     "execution_count": 2,
     "metadata": {},
     "output_type": "execute_result"
    }
   ],
   "source": [
    "# visualize the samples\n",
    "data.head()"
   ]
  },
  {
   "cell_type": "markdown",
   "id": "7f69f4b7",
   "metadata": {},
   "source": [
    "Let’s quickly check the shape of the data frame."
   ]
  },
  {
   "cell_type": "code",
   "execution_count": 3,
   "id": "bde32f18",
   "metadata": {},
   "outputs": [
    {
     "data": {
      "text/plain": [
       "(150, 6)"
      ]
     },
     "execution_count": 3,
     "metadata": {},
     "output_type": "execute_result"
    }
   ],
   "source": [
    "# check the shape of data\n",
    "data.shape"
   ]
  },
  {
   "cell_type": "markdown",
   "id": "38d597b1",
   "metadata": {},
   "source": [
    "#### Defining input features\n",
    "\n",
    "From the above output, there are 6 columns out of which we need to use 4 columns named Sepal’s length & width and Petal’s length & width to create clusters. These four columns will be used as input to the Hierarchical algorithm.  "
   ]
  },
  {
   "cell_type": "code",
   "execution_count": 4,
   "id": "46bee329",
   "metadata": {},
   "outputs": [
    {
     "data": {
      "text/plain": [
       "(150, 4)"
      ]
     },
     "execution_count": 4,
     "metadata": {},
     "output_type": "execute_result"
    }
   ],
   "source": [
    "# Defining input (X) features\n",
    "X = data.iloc[:,1:5].values\n",
    "\n",
    "# size of X\n",
    "X.shape"
   ]
  },
  {
   "cell_type": "markdown",
   "id": "e7e558f0",
   "metadata": {},
   "source": [
    "As we can see we have successfully created the input features set."
   ]
  },
  {
   "cell_type": "markdown",
   "id": "cfbea77e",
   "metadata": {},
   "source": [
    "#### Calculating the Eps value\n",
    "\n",
    "The Eps is referred to as epsilon which defines the neighbourhood around the selected data point so to calculate the optimal value we are using the Elbow method which is the same as we used in the K-Means clustering.  \n",
    "\n",
    "The basic idea is to create a plot, on the x-axis number of data points and on the y-axis represent the average distance to be mentioned, the plot will be in an incremental manner. \n",
    "\n",
    "From this plot, we can infer that the Eps where the sudden jump is observed at a particular distance will be the optimal value of Eps.    \n",
    "\n",
    "So before plotting the distances let’s take a look at the raw distribution of the dataset. "
   ]
  },
  {
   "cell_type": "code",
   "execution_count": 5,
   "id": "0cf704d4",
   "metadata": {},
   "outputs": [
    {
     "data": {
      "text/plain": [
       "Text(0, 0.5, 'Petal Length')"
      ]
     },
     "execution_count": 5,
     "metadata": {},
     "output_type": "execute_result"
    },
    {
     "data": {
      "image/png": "[encoded data removed]",
      "text/plain": [
       "<Figure size 504x360 with 1 Axes>"
      ]
     },
     "metadata": {
      "needs_background": "light"
     },
     "output_type": "display_data"
    }
   ],
   "source": [
    "# How the SepalLength and PetalLength charges are distributed\n",
    "import matplotlib.pyplot as plt\n",
    "plt.figure(figsize=(7,5))\n",
    "plt.scatter(X[:,0],X[:,2])\n",
    "plt.xlabel('Sepal Length')\n",
    "plt.ylabel('Petal Length')"
   ]
  },
  {
   "cell_type": "markdown",
   "id": "53e0cf97",
   "metadata": {},
   "source": [
    "Some noise or outliers are present in our dataset, let’s see whether DBSCAN can detect those. Before that let’s calculate the distance."
   ]
  },
  {
   "cell_type": "code",
   "execution_count": 6,
   "id": "f218b078",
   "metadata": {},
   "outputs": [],
   "source": [
    "# Grab the distance between data points\n",
    "from sklearn.neighbors import NearestNeighbors\n",
    "neibhours = NearestNeighbors(n_neighbors=4)\n",
    "neibhours.fit(X)\n",
    "distances, indices = neibhours.kneighbors(X)"
   ]
  },
  {
   "cell_type": "code",
   "execution_count": 7,
   "id": "aee42d52",
   "metadata": {},
   "outputs": [],
   "source": [
    "# sort the distances \n",
    "import numpy as np\n",
    "distances = np.sort(distances, axis=0)"
   ]
  },
  {
   "cell_type": "code",
   "execution_count": 8,
   "id": "bf72643a",
   "metadata": {},
   "outputs": [
    {
     "data": {
      "image/png": "[encoded data removed]",
      "text/plain": [
       "<Figure size 504x360 with 1 Axes>"
      ]
     },
     "metadata": {
      "needs_background": "light"
     },
     "output_type": "display_data"
    }
   ],
   "source": [
    "# plotting the distances\n",
    "plt.figure(figsize=(7,5))\n",
    "plt.plot(distances[:,1]) \n",
    "plt.xlabel('Data points')\n",
    "plt.ylabel('Average distance between points')\n",
    "plt.show()"
   ]
  },
  {
   "cell_type": "markdown",
   "id": "673e4b50",
   "metadata": {},
   "source": [
    "From the above, the jump is observed around 0.6 so let’s choose the Eps to be 0.63. "
   ]
  },
  {
   "cell_type": "markdown",
   "id": "e14a6539",
   "metadata": {},
   "source": [
    "#### Initialize and train the DBSCAN\n",
    "\n",
    "Here we will import the DBSCAN from the SK-Learn library and will initialize and train it. Out of two parameters we have calculated the Eps value, the min_points can be set equal or greater to the number of dimensions that we are using (depends on the domain knowledge).  "
   ]
  },
  {
   "cell_type": "code",
   "execution_count": 9,
   "id": "12e6985a",
   "metadata": {},
   "outputs": [
    {
     "data": {
      "text/html": [
       "<style>#sk-container-id-1 {color: black;background-color: white;}#sk-container-id-1 pre{padding: 0;}#sk-container-id-1 div.sk-toggleable {background-color: white;}#sk-container-id-1 label.sk-toggleable__label {cursor: pointer;display: block;width: 100%;margin-bottom: 0;padding: 0.3em;box-sizing: border-box;text-align: center;}#sk-container-id-1 label.sk-toggleable__label-arrow:before {content: \"▸\";float: left;margin-right: 0.25em;color: #696969;}#sk-container-id-1 label.sk-toggleable__label-arrow:hover:before {color: black;}#sk-container-id-1 div.sk-estimator:hover label.sk-toggleable__label-arrow:before {color: black;}#sk-container-id-1 div.sk-toggleable__content {max-height: 0;max-width: 0;overflow: hidden;text-align: left;background-color: #f0f8ff;}#sk-container-id-1 div.sk-toggleable__content pre {margin: 0.2em;color: black;border-radius: 0.25em;background-color: #f0f8ff;}#sk-container-id-1 input.sk-toggleable__control:checked~div.sk-toggleable__content {max-height: 200px;max-width: 100%;overflow: auto;}#sk-container-id-1 input.sk-toggleable__control:checked~label.sk-toggleable__label-arrow:before {content: \"▾\";}#sk-container-id-1 div.sk-estimator input.sk-toggleable__control:checked~label.sk-toggleable__label {background-color: #d4ebff;}#sk-container-id-1 div.sk-label input.sk-toggleable__control:checked~label.sk-toggleable__label {background-color: #d4ebff;}#sk-container-id-1 input.sk-hidden--visually {border: 0;clip: rect(1px 1px 1px 1px);clip: rect(1px, 1px, 1px, 1px);height: 1px;margin: -1px;overflow: hidden;padding: 0;position: absolute;width: 1px;}#sk-container-id-1 div.sk-estimator {font-family: monospace;background-color: #f0f8ff;border: 1px dotted black;border-radius: 0.25em;box-sizing: border-box;margin-bottom: 0.5em;}#sk-container-id-1 div.sk-estimator:hover {background-color: #d4ebff;}#sk-container-id-1 div.sk-parallel-item::after {content: \"\";width: 100%;border-bottom: 1px solid gray;flex-grow: 1;}#sk-container-id-1 div.sk-label:hover label.sk-toggleable__label {background-color: #d4ebff;}#sk-container-id-1 div.sk-serial::before {content: \"\";position: absolute;border-left: 1px solid gray;box-sizing: border-box;top: 0;bottom: 0;left: 50%;z-index: 0;}#sk-container-id-1 div.sk-serial {display: flex;flex-direction: column;align-items: center;background-color: white;padding-right: 0.2em;padding-left: 0.2em;position: relative;}#sk-container-id-1 div.sk-item {position: relative;z-index: 1;}#sk-container-id-1 div.sk-parallel {display: flex;align-items: stretch;justify-content: center;background-color: white;position: relative;}#sk-container-id-1 div.sk-item::before, #sk-container-id-1 div.sk-parallel-item::before {content: \"\";position: absolute;border-left: 1px solid gray;box-sizing: border-box;top: 0;bottom: 0;left: 50%;z-index: -1;}#sk-container-id-1 div.sk-parallel-item {display: flex;flex-direction: column;z-index: 1;position: relative;background-color: white;}#sk-container-id-1 div.sk-parallel-item:first-child::after {align-self: flex-end;width: 50%;}#sk-container-id-1 div.sk-parallel-item:last-child::after {align-self: flex-start;width: 50%;}#sk-container-id-1 div.sk-parallel-item:only-child::after {width: 0;}#sk-container-id-1 div.sk-dashed-wrapped {border: 1px dashed gray;margin: 0 0.4em 0.5em 0.4em;box-sizing: border-box;padding-bottom: 0.4em;background-color: white;}#sk-container-id-1 div.sk-label label {font-family: monospace;font-weight: bold;display: inline-block;line-height: 1.2em;}#sk-container-id-1 div.sk-label-container {text-align: center;}#sk-container-id-1 div.sk-container {/* jupyter's `normalize.less` sets `[hidden] { display: none; }` but bootstrap.min.css set `[hidden] { display: none !important; }` so we also need the `!important` here to be able to override the default hidden behavior on the sphinx rendered scikit-learn.org. See: https://github.com/scikit-learn/scikit-learn/issues/21755 */display: inline-block !important;position: relative;}#sk-container-id-1 div.sk-text-repr-fallback {display: none;}</style><div id=\"sk-container-id-1\" class=\"sk-top-container\"><div class=\"sk-text-repr-fallback\"><pre>DBSCAN(eps=0.63, min_samples=4)</pre><b>In a Jupyter environment, please rerun this cell to show the HTML representation or trust the notebook. <br />On GitHub, the HTML representation is unable to render, please try loading this page with nbviewer.org.</b></div><div class=\"sk-container\" hidden><div class=\"sk-item\"><div class=\"sk-estimator sk-toggleable\"><input class=\"sk-toggleable__control sk-hidden--visually\" id=\"sk-estimator-id-1\" type=\"checkbox\" checked><label for=\"sk-estimator-id-1\" class=\"sk-toggleable__label sk-toggleable__label-arrow\">DBSCAN</label><div class=\"sk-toggleable__content\"><pre>DBSCAN(eps=0.63, min_samples=4)</pre></div></div></div></div></div>"
      ],
      "text/plain": [
       "DBSCAN(eps=0.63, min_samples=4)"
      ]
     },
     "execution_count": 9,
     "metadata": {},
     "output_type": "execute_result"
    }
   ],
   "source": [
    "# import and initialize DBSCAN\n",
    "from sklearn.cluster import DBSCAN\n",
    "density_cluster = DBSCAN(eps = 0.63, min_samples=4)\n",
    "\n",
    "# train model\n",
    "density_cluster.fit(X) "
   ]
  },
  {
   "cell_type": "markdown",
   "id": "0d367558",
   "metadata": {},
   "source": [
    "#### Plotting the clusters\n",
    "\n",
    "Here first we try to understand the labels that the algorithm has assigned to our data."
   ]
  },
  {
   "cell_type": "code",
   "execution_count": 10,
   "id": "3a106031",
   "metadata": {},
   "outputs": [
    {
     "data": {
      "text/plain": [
       " 1    92\n",
       " 0    50\n",
       " 2     4\n",
       "-1     4\n",
       "Name: labels, dtype: int64"
      ]
     },
     "execution_count": 10,
     "metadata": {},
     "output_type": "execute_result"
    }
   ],
   "source": [
    "# predicted result\n",
    "data['labels'] = density_cluster.labels_\n",
    "\n",
    "# clusters labels\n",
    "data['labels'].value_counts()"
   ]
  },
  {
   "cell_type": "markdown",
   "id": "ec7ebea5",
   "metadata": {},
   "source": [
    "From the above, the DBSCAN made three clusters and their labels are 0,1, and 2. The data points under the -1 label are noises or outliers. \n",
    "\n",
    "Let’s plot these clusters."
   ]
  },
  {
   "cell_type": "code",
   "execution_count": 11,
   "id": "95ad2a88",
   "metadata": {},
   "outputs": [
    {
     "data": {
      "text/plain": [
       "<matplotlib.legend.Legend at 0x1a2123c6850>"
      ]
     },
     "execution_count": 11,
     "metadata": {},
     "output_type": "execute_result"
    },
    {
     "data": {
      "image/png": "[encoded data removed]",
      "text/plain": [
       "<Figure size 432x288 with 1 Axes>"
      ]
     },
     "metadata": {
      "needs_background": "light"
     },
     "output_type": "display_data"
    }
   ],
   "source": [
    "# plotting the clusters \n",
    "plt.scatter(X[data['labels']  == 0, 0], X[data['labels']  == 0, 2], s = 50, c = 'green', label = 'Cluster 1')\n",
    "plt.scatter(X[data['labels']  == 1, 0], X[data['labels']  == 1, 2], s = 50, c = 'cyan', label = 'Cluster 2')\n",
    "plt.scatter(X[data['labels']  == 2, 0], X[data['labels']  == 2, 2], s = 50, c = 'blue', label = 'Cluster 3')\n",
    "plt.scatter(X[data['labels']  == -1, 0], X[data['labels']  == -1, 2], s = 50, c = 'red', label = 'Outliers')\n",
    "plt.xlabel('Sepal Length')\n",
    "plt.ylabel('Petal Length')\n",
    "plt.title('Identified iris clusters')\n",
    "plt.legend()"
   ]
  },
  {
   "cell_type": "markdown",
   "id": "cbec4d83",
   "metadata": {},
   "source": [
    "In the above plot, data points in green, blue, and cyan are clusters, and data points in red are outliers or noises. \n",
    "\n",
    "So this is how we can address the clustering problem using the DBSCAN algorithm."
   ]
  }
 ],
 "metadata": {
  "kernelspec": {
   "display_name": "Python 3 (ipykernel)",
   "language": "python",
   "name": "python3"
  },
  "language_info": {
   "codemirror_mode": {
    "name": "ipython",
    "version": 3
   },
   "file_extension": ".py",
   "mimetype": "text/x-python",
   "name": "python",
   "nbconvert_exporter": "python",
   "pygments_lexer": "ipython3",
   "version": "3.9.12"
  }
 },
 "nbformat": 4,
 "nbformat_minor": 5
}
