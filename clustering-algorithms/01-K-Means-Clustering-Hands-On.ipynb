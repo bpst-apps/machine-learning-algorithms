{
 "cells": [
  {
   "cell_type": "markdown",
   "id": "8d972dd2",
   "metadata": {},
   "source": [
    "## Hands-on implementation of K-Means clustering\n",
    "\n",
    "In this notebook, we are going to apply this algorithm to real-world datasets. Here our task is to identify the clusters or types of flowers from the given features of the flowers. For this task, we are using the famous iris flower dataset which has four different features of iris flowers and from those features, we need to club those data points which belong to a particular type of flower.  "
   ]
  },
  {
   "cell_type": "markdown",
   "id": "cb9ab46c",
   "metadata": {},
   "source": [
    "#### Load and read the data\n",
    "\n",
    "First of all, we will load the data stored in a CSV file using pandas."
   ]
  },
  {
   "cell_type": "code",
   "execution_count": 1,
   "id": "a6c4e4bd",
   "metadata": {},
   "outputs": [],
   "source": [
    "# Load the pandas\n",
    "import pandas as pd\n",
    "\n",
    "# Read the data\n",
    "data = pd.read_csv('Iris.csv')"
   ]
  },
  {
   "cell_type": "markdown",
   "id": "c90b7e41",
   "metadata": {},
   "source": [
    "Review the first 5 rows of the dataset."
   ]
  },
  {
   "cell_type": "code",
   "execution_count": 2,
   "id": "c9954ebf",
   "metadata": {},
   "outputs": [
    {
     "data": {
      "text/html": [
       "<div>\n",
       "<style scoped>\n",
       "    .dataframe tbody tr th:only-of-type {\n",
       "        vertical-align: middle;\n",
       "    }\n",
       "\n",
       "    .dataframe tbody tr th {\n",
       "        vertical-align: top;\n",
       "    }\n",
       "\n",
       "    .dataframe thead th {\n",
       "        text-align: right;\n",
       "    }\n",
       "</style>\n",
       "<table border=\"1\" class=\"dataframe\">\n",
       "  <thead>\n",
       "    <tr style=\"text-align: right;\">\n",
       "      <th></th>\n",
       "      <th>Id</th>\n",
       "      <th>SepalLengthCm</th>\n",
       "      <th>SepalWidthCm</th>\n",
       "      <th>PetalLengthCm</th>\n",
       "      <th>PetalWidthCm</th>\n",
       "      <th>Species</th>\n",
       "    </tr>\n",
       "  </thead>\n",
       "  <tbody>\n",
       "    <tr>\n",
       "      <th>0</th>\n",
       "      <td>1</td>\n",
       "      <td>5.1</td>\n",
       "      <td>3.5</td>\n",
       "      <td>1.4</td>\n",
       "      <td>0.2</td>\n",
       "      <td>Iris-setosa</td>\n",
       "    </tr>\n",
       "    <tr>\n",
       "      <th>1</th>\n",
       "      <td>2</td>\n",
       "      <td>4.9</td>\n",
       "      <td>3.0</td>\n",
       "      <td>1.4</td>\n",
       "      <td>0.2</td>\n",
       "      <td>Iris-setosa</td>\n",
       "    </tr>\n",
       "    <tr>\n",
       "      <th>2</th>\n",
       "      <td>3</td>\n",
       "      <td>4.7</td>\n",
       "      <td>3.2</td>\n",
       "      <td>1.3</td>\n",
       "      <td>0.2</td>\n",
       "      <td>Iris-setosa</td>\n",
       "    </tr>\n",
       "    <tr>\n",
       "      <th>3</th>\n",
       "      <td>4</td>\n",
       "      <td>4.6</td>\n",
       "      <td>3.1</td>\n",
       "      <td>1.5</td>\n",
       "      <td>0.2</td>\n",
       "      <td>Iris-setosa</td>\n",
       "    </tr>\n",
       "    <tr>\n",
       "      <th>4</th>\n",
       "      <td>5</td>\n",
       "      <td>5.0</td>\n",
       "      <td>3.6</td>\n",
       "      <td>1.4</td>\n",
       "      <td>0.2</td>\n",
       "      <td>Iris-setosa</td>\n",
       "    </tr>\n",
       "  </tbody>\n",
       "</table>\n",
       "</div>"
      ],
      "text/plain": [
       "   Id  SepalLengthCm  SepalWidthCm  PetalLengthCm  PetalWidthCm      Species\n",
       "0   1            5.1           3.5            1.4           0.2  Iris-setosa\n",
       "1   2            4.9           3.0            1.4           0.2  Iris-setosa\n",
       "2   3            4.7           3.2            1.3           0.2  Iris-setosa\n",
       "3   4            4.6           3.1            1.5           0.2  Iris-setosa\n",
       "4   5            5.0           3.6            1.4           0.2  Iris-setosa"
      ]
     },
     "execution_count": 2,
     "metadata": {},
     "output_type": "execute_result"
    }
   ],
   "source": [
    "# Visualize the samples\n",
    "data.head()"
   ]
  },
  {
   "cell_type": "markdown",
   "id": "cef6482e",
   "metadata": {},
   "source": [
    "Let’s quickly check the shape of the data frame."
   ]
  },
  {
   "cell_type": "code",
   "execution_count": 3,
   "id": "2a327862",
   "metadata": {},
   "outputs": [
    {
     "data": {
      "text/plain": [
       "(150, 6)"
      ]
     },
     "execution_count": 3,
     "metadata": {},
     "output_type": "execute_result"
    }
   ],
   "source": [
    "# Check the shape of the data\n",
    "data.shape"
   ]
  },
  {
   "cell_type": "markdown",
   "id": "ccbc4f7a",
   "metadata": {},
   "source": [
    "#### Defining input features\n",
    "\n",
    "We are using a dataset that holds the label for each instance, here as we are dealing with the unsupervised problem we will keep only sepal and petal information of the flowers and the rest will be excluded. "
   ]
  },
  {
   "cell_type": "code",
   "execution_count": 4,
   "id": "444c33f9",
   "metadata": {},
   "outputs": [],
   "source": [
    "# Defining input (X) features\n",
    "X = data.iloc[:,1:5].values"
   ]
  },
  {
   "cell_type": "markdown",
   "id": "dc22f994",
   "metadata": {},
   "source": [
    "Let’s ensure that we have extracted only those 4 features with all rows. "
   ]
  },
  {
   "cell_type": "code",
   "execution_count": 5,
   "id": "85830459",
   "metadata": {},
   "outputs": [
    {
     "data": {
      "text/plain": [
       "(150, 4)"
      ]
     },
     "execution_count": 5,
     "metadata": {},
     "output_type": "execute_result"
    }
   ],
   "source": [
    "# Size of X\n",
    "X.shape"
   ]
  },
  {
   "cell_type": "markdown",
   "id": "446b687e",
   "metadata": {},
   "source": [
    "Now we will create a separate training and testing set of the above-defined data. This step is optional, we can use only one set of data to train the algorithm and generate the predictions. The below train and test sets are used for training and to obtain predictions respectively.  "
   ]
  },
  {
   "cell_type": "code",
   "execution_count": 6,
   "id": "fb7e5401",
   "metadata": {},
   "outputs": [],
   "source": [
    "# Preparing training and testing set\n",
    "from sklearn.model_selection import train_test_split\n",
    "x_train, x_test = train_test_split(X,test_size=0.20, random_state=0)"
   ]
  },
  {
   "cell_type": "markdown",
   "id": "15bd871d",
   "metadata": {},
   "source": [
    "Checking the shape of the training and testing set."
   ]
  },
  {
   "cell_type": "code",
   "execution_count": 7,
   "id": "18d05e0f",
   "metadata": {},
   "outputs": [
    {
     "data": {
      "text/plain": [
       "((120, 4), (30, 4))"
      ]
     },
     "execution_count": 7,
     "metadata": {},
     "output_type": "execute_result"
    }
   ],
   "source": [
    "# Shape for train and test set\n",
    "x_train.shape, x_test.shape"
   ]
  },
  {
   "cell_type": "markdown",
   "id": "e1428c78",
   "metadata": {},
   "source": [
    "Before moving further let's check the input patterns."
   ]
  },
  {
   "cell_type": "code",
   "execution_count": 8,
   "id": "8fe9df25",
   "metadata": {},
   "outputs": [
    {
     "data": {
      "text/plain": [
       "array([[5.8, 2.8, 5.1, 2.4],\n",
       "       [6. , 2.2, 4. , 1. ],\n",
       "       [5.5, 4.2, 1.4, 0.2],\n",
       "       [7.3, 2.9, 6.3, 1.8],\n",
       "       [5. , 3.4, 1.5, 0.2],\n",
       "       [6.3, 3.3, 6. , 2.5],\n",
       "       [5. , 3.5, 1.3, 0.3],\n",
       "       [6.7, 3.1, 4.7, 1.5],\n",
       "       [6.8, 2.8, 4.8, 1.4],\n",
       "       [6.1, 2.8, 4. , 1.3],\n",
       "       [6.1, 2.6, 5.6, 1.4]])"
      ]
     },
     "execution_count": 8,
     "metadata": {},
     "output_type": "execute_result"
    }
   ],
   "source": [
    "# Input patterns\n",
    "x_test[:11]"
   ]
  },
  {
   "cell_type": "markdown",
   "id": "37da2d37",
   "metadata": {},
   "source": [
    "#### Initializing and training the K-Means Clustering \n",
    "\n",
    "Same as any other ML algorithm, here we import k-means from the sklearn library. To train this algorithm we need to give the value for k which is the number of clusters to be identified. To find the optimal value for k here we will use the Elbow method. \n",
    "\n",
    "The Elbow method is popularly used in algorithm K-means algorithm to find the optimal number of clusters to be formed. In K-means, we will create a loop for a certain range of values, for each iteration we train the algorithm and will extract the sum of squared error within the clusters. \n",
    "\n",
    "After all the iterations we will simply make a line plot for the Sum of Squared error Vs Value of K and based on the plot we will choose the optimal value of K.\n",
    "\n",
    "The elbow method can be implemented as below. "
   ]
  },
  {
   "cell_type": "code",
   "execution_count": 9,
   "id": "67e0e5b9",
   "metadata": {},
   "outputs": [
    {
     "data": {
      "image/png": "[encoded data removed]",
      "text/plain": [
       "<Figure size 432x288 with 1 Axes>"
      ]
     },
     "metadata": {
      "needs_background": "light"
     },
     "output_type": "display_data"
    }
   ],
   "source": [
    "# elbow method to get value of k\n",
    "import matplotlib.pyplot as plt  \n",
    "from sklearn.cluster import KMeans \n",
    "import warnings\n",
    "warnings.filterwarnings('ignore')\n",
    "\n",
    "loss= []   \n",
    "  \n",
    "# Using a for loop for iterations from 1 to 10.  \n",
    "for i in range(1, 11):  \n",
    "    kmeans = KMeans(n_clusters=i)  \n",
    "    kmeans.fit(x_train)  \n",
    "    loss.append(kmeans.inertia_)  \n",
    "plt.plot(range(1, 11), loss)  \n",
    "plt.title('The Elbow Method Graph')  \n",
    "plt.xlabel('Number of clusters(k)')  \n",
    "plt.ylabel('Loss')  \n",
    "plt.show()"
   ]
  },
  {
   "cell_type": "markdown",
   "id": "983498d6",
   "metadata": {},
   "source": [
    "In the above graph, the elbow point is at K=3, so we can choose it as the final value. Now we can train the algorithm."
   ]
  },
  {
   "cell_type": "code",
   "execution_count": 10,
   "id": "9e2822de",
   "metadata": {},
   "outputs": [
    {
     "data": {
      "text/html": [
       "<style>#sk-container-id-1 {color: black;background-color: white;}#sk-container-id-1 pre{padding: 0;}#sk-container-id-1 div.sk-toggleable {background-color: white;}#sk-container-id-1 label.sk-toggleable__label {cursor: pointer;display: block;width: 100%;margin-bottom: 0;padding: 0.3em;box-sizing: border-box;text-align: center;}#sk-container-id-1 label.sk-toggleable__label-arrow:before {content: \"▸\";float: left;margin-right: 0.25em;color: #696969;}#sk-container-id-1 label.sk-toggleable__label-arrow:hover:before {color: black;}#sk-container-id-1 div.sk-estimator:hover label.sk-toggleable__label-arrow:before {color: black;}#sk-container-id-1 div.sk-toggleable__content {max-height: 0;max-width: 0;overflow: hidden;text-align: left;background-color: #f0f8ff;}#sk-container-id-1 div.sk-toggleable__content pre {margin: 0.2em;color: black;border-radius: 0.25em;background-color: #f0f8ff;}#sk-container-id-1 input.sk-toggleable__control:checked~div.sk-toggleable__content {max-height: 200px;max-width: 100%;overflow: auto;}#sk-container-id-1 input.sk-toggleable__control:checked~label.sk-toggleable__label-arrow:before {content: \"▾\";}#sk-container-id-1 div.sk-estimator input.sk-toggleable__control:checked~label.sk-toggleable__label {background-color: #d4ebff;}#sk-container-id-1 div.sk-label input.sk-toggleable__control:checked~label.sk-toggleable__label {background-color: #d4ebff;}#sk-container-id-1 input.sk-hidden--visually {border: 0;clip: rect(1px 1px 1px 1px);clip: rect(1px, 1px, 1px, 1px);height: 1px;margin: -1px;overflow: hidden;padding: 0;position: absolute;width: 1px;}#sk-container-id-1 div.sk-estimator {font-family: monospace;background-color: #f0f8ff;border: 1px dotted black;border-radius: 0.25em;box-sizing: border-box;margin-bottom: 0.5em;}#sk-container-id-1 div.sk-estimator:hover {background-color: #d4ebff;}#sk-container-id-1 div.sk-parallel-item::after {content: \"\";width: 100%;border-bottom: 1px solid gray;flex-grow: 1;}#sk-container-id-1 div.sk-label:hover label.sk-toggleable__label {background-color: #d4ebff;}#sk-container-id-1 div.sk-serial::before {content: \"\";position: absolute;border-left: 1px solid gray;box-sizing: border-box;top: 0;bottom: 0;left: 50%;z-index: 0;}#sk-container-id-1 div.sk-serial {display: flex;flex-direction: column;align-items: center;background-color: white;padding-right: 0.2em;padding-left: 0.2em;position: relative;}#sk-container-id-1 div.sk-item {position: relative;z-index: 1;}#sk-container-id-1 div.sk-parallel {display: flex;align-items: stretch;justify-content: center;background-color: white;position: relative;}#sk-container-id-1 div.sk-item::before, #sk-container-id-1 div.sk-parallel-item::before {content: \"\";position: absolute;border-left: 1px solid gray;box-sizing: border-box;top: 0;bottom: 0;left: 50%;z-index: -1;}#sk-container-id-1 div.sk-parallel-item {display: flex;flex-direction: column;z-index: 1;position: relative;background-color: white;}#sk-container-id-1 div.sk-parallel-item:first-child::after {align-self: flex-end;width: 50%;}#sk-container-id-1 div.sk-parallel-item:last-child::after {align-self: flex-start;width: 50%;}#sk-container-id-1 div.sk-parallel-item:only-child::after {width: 0;}#sk-container-id-1 div.sk-dashed-wrapped {border: 1px dashed gray;margin: 0 0.4em 0.5em 0.4em;box-sizing: border-box;padding-bottom: 0.4em;background-color: white;}#sk-container-id-1 div.sk-label label {font-family: monospace;font-weight: bold;display: inline-block;line-height: 1.2em;}#sk-container-id-1 div.sk-label-container {text-align: center;}#sk-container-id-1 div.sk-container {/* jupyter's `normalize.less` sets `[hidden] { display: none; }` but bootstrap.min.css set `[hidden] { display: none !important; }` so we also need the `!important` here to be able to override the default hidden behavior on the sphinx rendered scikit-learn.org. See: https://github.com/scikit-learn/scikit-learn/issues/21755 */display: inline-block !important;position: relative;}#sk-container-id-1 div.sk-text-repr-fallback {display: none;}</style><div id=\"sk-container-id-1\" class=\"sk-top-container\"><div class=\"sk-text-repr-fallback\"><pre>KMeans(n_clusters=3)</pre><b>In a Jupyter environment, please rerun this cell to show the HTML representation or trust the notebook. <br />On GitHub, the HTML representation is unable to render, please try loading this page with nbviewer.org.</b></div><div class=\"sk-container\" hidden><div class=\"sk-item\"><div class=\"sk-estimator sk-toggleable\"><input class=\"sk-toggleable__control sk-hidden--visually\" id=\"sk-estimator-id-1\" type=\"checkbox\" checked><label for=\"sk-estimator-id-1\" class=\"sk-toggleable__label sk-toggleable__label-arrow\">KMeans</label><div class=\"sk-toggleable__content\"><pre>KMeans(n_clusters=3)</pre></div></div></div></div></div>"
      ],
      "text/plain": [
       "KMeans(n_clusters=3)"
      ]
     },
     "execution_count": 10,
     "metadata": {},
     "output_type": "execute_result"
    }
   ],
   "source": [
    "# Training with K=3\n",
    "kmeans = KMeans(n_clusters=3)  \n",
    "kmeans.fit(x_train) "
   ]
  },
  {
   "cell_type": "markdown",
   "id": "dcb4cbb9",
   "metadata": {},
   "source": [
    "#### Predicting and visualizing the clusters\n",
    "\n",
    "As we have chosen the value of k to be 3, the prediction for the given data points will be in form of numeric labels such as 0,1,2.  "
   ]
  },
  {
   "cell_type": "code",
   "execution_count": 11,
   "id": "23156f12",
   "metadata": {},
   "outputs": [
    {
     "data": {
      "text/plain": [
       "array([0])"
      ]
     },
     "execution_count": 11,
     "metadata": {},
     "output_type": "execute_result"
    }
   ],
   "source": [
    "# Random prediction \n",
    "kmeans.predict([[7.3, 2.9, 6.3, 1.8]])"
   ]
  },
  {
   "cell_type": "markdown",
   "id": "9b049f48",
   "metadata": {},
   "source": [
    "Above we have supplied random values and the model predicted, identified that these points belong to cluster number 0. In a similar way, we get predictions for test data."
   ]
  },
  {
   "cell_type": "code",
   "execution_count": 12,
   "id": "fcdf3f93",
   "metadata": {},
   "outputs": [
    {
     "data": {
      "text/plain": [
       "array([2, 2, 1, 0, 1, 0, 1, 2, 2, 2, 0, 2, 2, 2, 2, 1, 2, 2, 1, 1, 2, 2,\n",
       "       1, 1, 2, 1, 1, 2, 2, 1])"
      ]
     },
     "execution_count": 12,
     "metadata": {},
     "output_type": "execute_result"
    }
   ],
   "source": [
    "# Predict clusters\n",
    "y_predict = kmeans.predict(x_test)\n",
    "y_predict"
   ]
  },
  {
   "cell_type": "markdown",
   "id": "f63571a5",
   "metadata": {},
   "source": [
    "Above we can see that the model has predicted cluster numbers for test records. Now we are going to visualize these identified clusters using a scatter plot. We have trained the algorithm for 4 features, in the scatter plot we will make use of 2 features namely Sepal length and Petal length to visualize the cluster.   \n",
    "\n",
    "The algorithm also returns the clusters’ centroid; we will plot those too to highlight the centre point of the respective cluster.   "
   ]
  },
  {
   "cell_type": "code",
   "execution_count": 13,
   "id": "2b018fff",
   "metadata": {},
   "outputs": [
    {
     "data": {
      "text/plain": [
       "<matplotlib.legend.Legend at 0x26902ed42b0>"
      ]
     },
     "execution_count": 13,
     "metadata": {},
     "output_type": "execute_result"
    },
    {
     "data": {
      "image/png": "[encoded data removed]",
      "text/plain": [
       "<Figure size 432x288 with 1 Axes>"
      ]
     },
     "metadata": {
      "needs_background": "light"
     },
     "output_type": "display_data"
    }
   ],
   "source": [
    "# Get the cluster centers\n",
    "centres = kmeans.cluster_centers_\n",
    "\n",
    "# Plotting the clusters\n",
    "plt.scatter(x_test[y_predict == 0, 0], x_test[y_predict == 0, 2], s = 100, c = 'green', label = 'Setosa')\n",
    "plt.scatter(x_test[y_predict == 1, 0], x_test[y_predict == 1, 2], s = 100, c = 'cyan', label = 'Versicolor')\n",
    "plt.scatter(x_test[y_predict == 2, 0], x_test[y_predict == 2, 2], s = 100, c = 'red', label = 'Virginica')\n",
    "plt.scatter(centres[:,0],centres[:,2],c='purple',s=150, marker='*', label='centroid')\n",
    "plt.xlabel('Sepal Length')\n",
    "plt.ylabel('Petal Length')\n",
    "plt.title('Identified iris clusters')\n",
    "plt.legend()"
   ]
  },
  {
   "cell_type": "markdown",
   "id": "9afe56b4",
   "metadata": {},
   "source": [
    "As we can see the above plot shows the 3 clusters clearly and their respective centroid highlighted in the Purple star. From the above plot, some points can be inferred such as the data points that have higher Sepal length and Petal length are clubbed into 3rd cluster similarly smaller lengths are clubbed into 1st cluster. \n",
    "\n",
    "So this is how we can implement the K-means clustering algorithm for unsupervised learning. "
   ]
  }
 ],
 "metadata": {
  "kernelspec": {
   "display_name": "Python 3 (ipykernel)",
   "language": "python",
   "name": "python3"
  },
  "language_info": {
   "codemirror_mode": {
    "name": "ipython",
    "version": 3
   },
   "file_extension": ".py",
   "mimetype": "text/x-python",
   "name": "python",
   "nbconvert_exporter": "python",
   "pygments_lexer": "ipython3",
   "version": "3.9.12"
  }
 },
 "nbformat": 4,
 "nbformat_minor": 5
}
