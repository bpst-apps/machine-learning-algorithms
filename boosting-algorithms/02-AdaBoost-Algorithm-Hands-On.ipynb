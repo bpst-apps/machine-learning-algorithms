{
 "cells": [
  {
   "cell_type": "markdown",
   "id": "8d16bc10",
   "metadata": {},
   "source": [
    "## Implementing AdaBoost Classification in Python\n",
    "\n",
    "We will apply the AdaBoost technique to the real-world classification problem where our task is to predict the Gender of the person. For this purpose we are considering the dataset which holds the person’s physical information such as a person has long hair or not, width and height of the forehead, whether the nose is wide or long, whether lips are thin or not, etc. There are a total of 8 features on which we are going to build the classification model.    \n",
    "\n",
    "Out of those 8 features, the first 7 features will be our input features and the last 8th feature is the target feature or output feature."
   ]
  },
  {
   "cell_type": "markdown",
   "id": "5a8e8401",
   "metadata": {},
   "source": [
    "#### Read and load the data\n",
    "\n",
    "The dataset is available in a CSV file and to load this data first we need to import the Pandas library. "
   ]
  },
  {
   "cell_type": "code",
   "execution_count": 1,
   "id": "99dae27e",
   "metadata": {},
   "outputs": [],
   "source": [
    "# Importing the required library\n",
    "import pandas as pd"
   ]
  },
  {
   "cell_type": "markdown",
   "id": "50a87e43",
   "metadata": {},
   "source": [
    "Now to read the data, we use the .read_csv() method and we also need to take a look at the data for that .head() method can be used."
   ]
  },
  {
   "cell_type": "code",
   "execution_count": 2,
   "id": "8f6641c3",
   "metadata": {},
   "outputs": [
    {
     "data": {
      "text/html": [
       "<div>\n",
       "<style scoped>\n",
       "    .dataframe tbody tr th:only-of-type {\n",
       "        vertical-align: middle;\n",
       "    }\n",
       "\n",
       "    .dataframe tbody tr th {\n",
       "        vertical-align: top;\n",
       "    }\n",
       "\n",
       "    .dataframe thead th {\n",
       "        text-align: right;\n",
       "    }\n",
       "</style>\n",
       "<table border=\"1\" class=\"dataframe\">\n",
       "  <thead>\n",
       "    <tr style=\"text-align: right;\">\n",
       "      <th></th>\n",
       "      <th>long_hair</th>\n",
       "      <th>forehead_width_cm</th>\n",
       "      <th>forehead_height_cm</th>\n",
       "      <th>nose_wide</th>\n",
       "      <th>nose_long</th>\n",
       "      <th>lips_thin</th>\n",
       "      <th>distance_nose_to_lip_long</th>\n",
       "      <th>gender</th>\n",
       "    </tr>\n",
       "  </thead>\n",
       "  <tbody>\n",
       "    <tr>\n",
       "      <th>0</th>\n",
       "      <td>1</td>\n",
       "      <td>11.8</td>\n",
       "      <td>6.1</td>\n",
       "      <td>1</td>\n",
       "      <td>0</td>\n",
       "      <td>1</td>\n",
       "      <td>1</td>\n",
       "      <td>Male</td>\n",
       "    </tr>\n",
       "    <tr>\n",
       "      <th>1</th>\n",
       "      <td>0</td>\n",
       "      <td>14.0</td>\n",
       "      <td>5.4</td>\n",
       "      <td>0</td>\n",
       "      <td>0</td>\n",
       "      <td>1</td>\n",
       "      <td>0</td>\n",
       "      <td>Female</td>\n",
       "    </tr>\n",
       "    <tr>\n",
       "      <th>2</th>\n",
       "      <td>0</td>\n",
       "      <td>11.8</td>\n",
       "      <td>6.3</td>\n",
       "      <td>1</td>\n",
       "      <td>1</td>\n",
       "      <td>1</td>\n",
       "      <td>1</td>\n",
       "      <td>Male</td>\n",
       "    </tr>\n",
       "    <tr>\n",
       "      <th>3</th>\n",
       "      <td>0</td>\n",
       "      <td>14.4</td>\n",
       "      <td>6.1</td>\n",
       "      <td>0</td>\n",
       "      <td>1</td>\n",
       "      <td>1</td>\n",
       "      <td>1</td>\n",
       "      <td>Male</td>\n",
       "    </tr>\n",
       "    <tr>\n",
       "      <th>4</th>\n",
       "      <td>1</td>\n",
       "      <td>13.5</td>\n",
       "      <td>5.9</td>\n",
       "      <td>0</td>\n",
       "      <td>0</td>\n",
       "      <td>0</td>\n",
       "      <td>0</td>\n",
       "      <td>Female</td>\n",
       "    </tr>\n",
       "  </tbody>\n",
       "</table>\n",
       "</div>"
      ],
      "text/plain": [
       "   long_hair  forehead_width_cm  forehead_height_cm  nose_wide  nose_long  \\\n",
       "0          1               11.8                 6.1          1          0   \n",
       "1          0               14.0                 5.4          0          0   \n",
       "2          0               11.8                 6.3          1          1   \n",
       "3          0               14.4                 6.1          0          1   \n",
       "4          1               13.5                 5.9          0          0   \n",
       "\n",
       "   lips_thin  distance_nose_to_lip_long  gender  \n",
       "0          1                          1    Male  \n",
       "1          1                          0  Female  \n",
       "2          1                          1    Male  \n",
       "3          1                          1    Male  \n",
       "4          0                          0  Female  "
      ]
     },
     "execution_count": 2,
     "metadata": {},
     "output_type": "execute_result"
    }
   ],
   "source": [
    "# Reading the dataset\n",
    "data = pd.read_csv('gender_classification.csv')\n",
    "\n",
    "# Checking top 5 rows of dataset\n",
    "data.head()"
   ]
  },
  {
   "cell_type": "markdown",
   "id": "cc2097d0",
   "metadata": {},
   "source": [
    "After this let’s quickly check the shape of the data."
   ]
  },
  {
   "cell_type": "code",
   "execution_count": 3,
   "id": "a6b850c1",
   "metadata": {},
   "outputs": [
    {
     "data": {
      "text/plain": [
       "(5001, 8)"
      ]
     },
     "execution_count": 3,
     "metadata": {},
     "output_type": "execute_result"
    }
   ],
   "source": [
    "# Checking the shape of the dataset\n",
    "data.shape"
   ]
  },
  {
   "cell_type": "markdown",
   "id": "62c74005",
   "metadata": {},
   "source": [
    "As we can see we have a total of 8 features and 5001 records. Here we are addressing a classification task and it is good practice to check the class label distribution of the output feature.    "
   ]
  },
  {
   "cell_type": "code",
   "execution_count": 4,
   "id": "0aeeb115",
   "metadata": {},
   "outputs": [
    {
     "data": {
      "text/plain": [
       "Female    2501\n",
       "Male      2500\n",
       "Name: gender, dtype: int64"
      ]
     },
     "execution_count": 4,
     "metadata": {},
     "output_type": "execute_result"
    }
   ],
   "source": [
    "# Class label count\n",
    "data['gender'].value_counts()"
   ]
  },
  {
   "cell_type": "code",
   "execution_count": 5,
   "id": "69477fd0",
   "metadata": {},
   "outputs": [
    {
     "data": {
      "text/plain": [
       "Female    0.5001\n",
       "Male      0.4999\n",
       "Name: gender, dtype: float64"
      ]
     },
     "execution_count": 5,
     "metadata": {},
     "output_type": "execute_result"
    }
   ],
   "source": [
    "# Percentage distribution\n",
    "data['gender'].value_counts(normalize=True)"
   ]
  },
  {
   "cell_type": "markdown",
   "id": "67ad5913",
   "metadata": {},
   "source": [
    "Out of the records of all 5001 records, there are records of a total of 2501 (50.01%) are Females and 2500 (49.99%) are Males."
   ]
  },
  {
   "cell_type": "markdown",
   "id": "0501646f",
   "metadata": {},
   "source": [
    "#### Define input(x)-output(y) features\n",
    "\n",
    "After reading and understanding the dataset, let’s define the input and output features in the data."
   ]
  },
  {
   "cell_type": "code",
   "execution_count": 6,
   "id": "f77acbc3",
   "metadata": {},
   "outputs": [],
   "source": [
    "# Defining input (X) and output (y) features\n",
    "X = data.iloc[:,:-1].values\n",
    "y = data.iloc[:, -1].values"
   ]
  },
  {
   "cell_type": "markdown",
   "id": "149b6ec4",
   "metadata": {},
   "source": [
    "Now we have defined X and y, now we will create a separate training and testing dataset by using SK-Learn’s train_test_split() method."
   ]
  },
  {
   "cell_type": "code",
   "execution_count": 7,
   "id": "828db5ee",
   "metadata": {},
   "outputs": [],
   "source": [
    "# Creating training and test patterns\n",
    "from sklearn.model_selection import train_test_split\n",
    "X_train, X_test, y_train, y_test = train_test_split(X, y, test_size = 0.30, shuffle=True, random_state = 0)"
   ]
  },
  {
   "cell_type": "markdown",
   "id": "1e13647d",
   "metadata": {},
   "source": [
    "Before proceeding further, let's check the shapes of the training and testing features."
   ]
  },
  {
   "cell_type": "code",
   "execution_count": 8,
   "id": "9212e64e",
   "metadata": {},
   "outputs": [
    {
     "data": {
      "text/plain": [
       "((3500, 7), (1501, 7))"
      ]
     },
     "execution_count": 8,
     "metadata": {},
     "output_type": "execute_result"
    }
   ],
   "source": [
    "# Checking shape of training and test sets\n",
    "X_train.shape, X_test.shape"
   ]
  },
  {
   "cell_type": "markdown",
   "id": "80c60e93",
   "metadata": {},
   "source": [
    "To train the classifier we have 3500 records and to evaluate the performance we have 1501 records. Now before training the classifier let’s check how the input training pattern looks."
   ]
  },
  {
   "cell_type": "code",
   "execution_count": 9,
   "id": "3a9b4fc5",
   "metadata": {},
   "outputs": [
    {
     "data": {
      "text/plain": [
       "array([[ 1. , 12.3,  5.8, ...,  1. ,  1. ,  0. ],\n",
       "       [ 1. , 14.7,  6.3, ...,  1. ,  1. ,  0. ],\n",
       "       [ 1. , 13.1,  6.1, ...,  0. ,  1. ,  1. ],\n",
       "       ...,\n",
       "       [ 1. , 14.3,  6.2, ...,  1. ,  0. ,  0. ],\n",
       "       [ 0. , 12. ,  6.8, ...,  1. ,  1. ,  1. ],\n",
       "       [ 1. , 14.3,  5.7, ...,  0. ,  0. ,  0. ]])"
      ]
     },
     "execution_count": 9,
     "metadata": {},
     "output_type": "execute_result"
    }
   ],
   "source": [
    "# Input patterns\n",
    "X_train"
   ]
  },
  {
   "cell_type": "markdown",
   "id": "61c3cada",
   "metadata": {},
   "source": [
    "As the training pattern looks fine and it seems there is no need for feature scaling, we will proceed with this in its original form."
   ]
  },
  {
   "cell_type": "markdown",
   "id": "a72db38a",
   "metadata": {},
   "source": [
    "#### Initializing and training the AdaBoost Classifier\n",
    "\n",
    "As a next step, after having the training and test patterns ready, we will define and train the AdaBoost classifier model."
   ]
  },
  {
   "cell_type": "code",
   "execution_count": 10,
   "id": "0e6efe40",
   "metadata": {},
   "outputs": [
    {
     "data": {
      "text/html": [
       "<style>#sk-container-id-1 {color: black;background-color: white;}#sk-container-id-1 pre{padding: 0;}#sk-container-id-1 div.sk-toggleable {background-color: white;}#sk-container-id-1 label.sk-toggleable__label {cursor: pointer;display: block;width: 100%;margin-bottom: 0;padding: 0.3em;box-sizing: border-box;text-align: center;}#sk-container-id-1 label.sk-toggleable__label-arrow:before {content: \"▸\";float: left;margin-right: 0.25em;color: #696969;}#sk-container-id-1 label.sk-toggleable__label-arrow:hover:before {color: black;}#sk-container-id-1 div.sk-estimator:hover label.sk-toggleable__label-arrow:before {color: black;}#sk-container-id-1 div.sk-toggleable__content {max-height: 0;max-width: 0;overflow: hidden;text-align: left;background-color: #f0f8ff;}#sk-container-id-1 div.sk-toggleable__content pre {margin: 0.2em;color: black;border-radius: 0.25em;background-color: #f0f8ff;}#sk-container-id-1 input.sk-toggleable__control:checked~div.sk-toggleable__content {max-height: 200px;max-width: 100%;overflow: auto;}#sk-container-id-1 input.sk-toggleable__control:checked~label.sk-toggleable__label-arrow:before {content: \"▾\";}#sk-container-id-1 div.sk-estimator input.sk-toggleable__control:checked~label.sk-toggleable__label {background-color: #d4ebff;}#sk-container-id-1 div.sk-label input.sk-toggleable__control:checked~label.sk-toggleable__label {background-color: #d4ebff;}#sk-container-id-1 input.sk-hidden--visually {border: 0;clip: rect(1px 1px 1px 1px);clip: rect(1px, 1px, 1px, 1px);height: 1px;margin: -1px;overflow: hidden;padding: 0;position: absolute;width: 1px;}#sk-container-id-1 div.sk-estimator {font-family: monospace;background-color: #f0f8ff;border: 1px dotted black;border-radius: 0.25em;box-sizing: border-box;margin-bottom: 0.5em;}#sk-container-id-1 div.sk-estimator:hover {background-color: #d4ebff;}#sk-container-id-1 div.sk-parallel-item::after {content: \"\";width: 100%;border-bottom: 1px solid gray;flex-grow: 1;}#sk-container-id-1 div.sk-label:hover label.sk-toggleable__label {background-color: #d4ebff;}#sk-container-id-1 div.sk-serial::before {content: \"\";position: absolute;border-left: 1px solid gray;box-sizing: border-box;top: 0;bottom: 0;left: 50%;z-index: 0;}#sk-container-id-1 div.sk-serial {display: flex;flex-direction: column;align-items: center;background-color: white;padding-right: 0.2em;padding-left: 0.2em;position: relative;}#sk-container-id-1 div.sk-item {position: relative;z-index: 1;}#sk-container-id-1 div.sk-parallel {display: flex;align-items: stretch;justify-content: center;background-color: white;position: relative;}#sk-container-id-1 div.sk-item::before, #sk-container-id-1 div.sk-parallel-item::before {content: \"\";position: absolute;border-left: 1px solid gray;box-sizing: border-box;top: 0;bottom: 0;left: 50%;z-index: -1;}#sk-container-id-1 div.sk-parallel-item {display: flex;flex-direction: column;z-index: 1;position: relative;background-color: white;}#sk-container-id-1 div.sk-parallel-item:first-child::after {align-self: flex-end;width: 50%;}#sk-container-id-1 div.sk-parallel-item:last-child::after {align-self: flex-start;width: 50%;}#sk-container-id-1 div.sk-parallel-item:only-child::after {width: 0;}#sk-container-id-1 div.sk-dashed-wrapped {border: 1px dashed gray;margin: 0 0.4em 0.5em 0.4em;box-sizing: border-box;padding-bottom: 0.4em;background-color: white;}#sk-container-id-1 div.sk-label label {font-family: monospace;font-weight: bold;display: inline-block;line-height: 1.2em;}#sk-container-id-1 div.sk-label-container {text-align: center;}#sk-container-id-1 div.sk-container {/* jupyter's `normalize.less` sets `[hidden] { display: none; }` but bootstrap.min.css set `[hidden] { display: none !important; }` so we also need the `!important` here to be able to override the default hidden behavior on the sphinx rendered scikit-learn.org. See: https://github.com/scikit-learn/scikit-learn/issues/21755 */display: inline-block !important;position: relative;}#sk-container-id-1 div.sk-text-repr-fallback {display: none;}</style><div id=\"sk-container-id-1\" class=\"sk-top-container\"><div class=\"sk-text-repr-fallback\"><pre>AdaBoostClassifier()</pre><b>In a Jupyter environment, please rerun this cell to show the HTML representation or trust the notebook. <br />On GitHub, the HTML representation is unable to render, please try loading this page with nbviewer.org.</b></div><div class=\"sk-container\" hidden><div class=\"sk-item\"><div class=\"sk-estimator sk-toggleable\"><input class=\"sk-toggleable__control sk-hidden--visually\" id=\"sk-estimator-id-1\" type=\"checkbox\" checked><label for=\"sk-estimator-id-1\" class=\"sk-toggleable__label sk-toggleable__label-arrow\">AdaBoostClassifier</label><div class=\"sk-toggleable__content\"><pre>AdaBoostClassifier()</pre></div></div></div></div></div>"
      ],
      "text/plain": [
       "AdaBoostClassifier()"
      ]
     },
     "execution_count": 10,
     "metadata": {},
     "output_type": "execute_result"
    }
   ],
   "source": [
    "# Defining the Adaptive Boosting Classifier\n",
    "from sklearn.ensemble import AdaBoostClassifier\n",
    "classifier = AdaBoostClassifier()\n",
    "\n",
    "# Train the classifier\n",
    "classifier.fit(X_train, y_train)"
   ]
  },
  {
   "cell_type": "markdown",
   "id": "d1faf982",
   "metadata": {},
   "source": [
    "#### Predicting and evaluating the classifier\n",
    "\n",
    "Now we have successfully trained the AdaBoost classifier, let’s obtain the prediction on the test dataset. And compare it with actual values side-by-side. "
   ]
  },
  {
   "cell_type": "code",
   "execution_count": 11,
   "id": "d9efa907",
   "metadata": {},
   "outputs": [
    {
     "data": {
      "text/html": [
       "<div>\n",
       "<style scoped>\n",
       "    .dataframe tbody tr th:only-of-type {\n",
       "        vertical-align: middle;\n",
       "    }\n",
       "\n",
       "    .dataframe tbody tr th {\n",
       "        vertical-align: top;\n",
       "    }\n",
       "\n",
       "    .dataframe thead th {\n",
       "        text-align: right;\n",
       "    }\n",
       "</style>\n",
       "<table border=\"1\" class=\"dataframe\">\n",
       "  <thead>\n",
       "    <tr style=\"text-align: right;\">\n",
       "      <th></th>\n",
       "      <th>Actual Gender</th>\n",
       "      <th>Predicted Gender</th>\n",
       "    </tr>\n",
       "  </thead>\n",
       "  <tbody>\n",
       "    <tr>\n",
       "      <th>0</th>\n",
       "      <td>Female</td>\n",
       "      <td>Female</td>\n",
       "    </tr>\n",
       "    <tr>\n",
       "      <th>1</th>\n",
       "      <td>Male</td>\n",
       "      <td>Male</td>\n",
       "    </tr>\n",
       "    <tr>\n",
       "      <th>2</th>\n",
       "      <td>Male</td>\n",
       "      <td>Male</td>\n",
       "    </tr>\n",
       "    <tr>\n",
       "      <th>3</th>\n",
       "      <td>Female</td>\n",
       "      <td>Female</td>\n",
       "    </tr>\n",
       "    <tr>\n",
       "      <th>4</th>\n",
       "      <td>Female</td>\n",
       "      <td>Female</td>\n",
       "    </tr>\n",
       "  </tbody>\n",
       "</table>\n",
       "</div>"
      ],
      "text/plain": [
       "  Actual Gender Predicted Gender\n",
       "0        Female           Female\n",
       "1          Male             Male\n",
       "2          Male             Male\n",
       "3        Female           Female\n",
       "4        Female           Female"
      ]
     },
     "execution_count": 11,
     "metadata": {},
     "output_type": "execute_result"
    }
   ],
   "source": [
    "# Making predictions with the test data\n",
    "y_pred = classifier.predict(X_test)\n",
    "\n",
    "# Combining the actual and predicted values\n",
    "pd.DataFrame(data={'Actual Gender': y_test, 'Predicted Gender': y_pred}).head()"
   ]
  },
  {
   "cell_type": "markdown",
   "id": "56f267e4",
   "metadata": {},
   "source": [
    "We can see in the above comparison all the top 5 predicted records are matched with actual records; there might be some records that are not matched. To get insight into those records we can use a confusion matrix that can reveal the truth for all the predicted records."
   ]
  },
  {
   "cell_type": "code",
   "execution_count": 13,
   "id": "3cdf173f",
   "metadata": {},
   "outputs": [
    {
     "name": "stderr",
     "output_type": "stream",
     "text": [
      "C:\\Users\\thaku\\anaconda3\\envs\\deep-learning\\lib\\site-packages\\sklearn\\utils\\deprecation.py:87: FutureWarning: Function plot_confusion_matrix is deprecated; Function `plot_confusion_matrix` is deprecated in 1.0 and will be removed in 1.2. Use one of the class methods: ConfusionMatrixDisplay.from_predictions or ConfusionMatrixDisplay.from_estimator.\n",
      "  warnings.warn(msg, category=FutureWarning)\n"
     ]
    },
    {
     "data": {
      "image/png": "[encoded data removed]",
      "text/plain": [
       "<Figure size 432x288 with 2 Axes>"
      ]
     },
     "metadata": {
      "needs_background": "light"
     },
     "output_type": "display_data"
    }
   ],
   "source": [
    "# Confusion matrix\n",
    "from sklearn.metrics import plot_confusion_matrix\n",
    "plot_confusion_matrix(classifier, X_test, y_test, cmap='Blues');"
   ]
  },
  {
   "cell_type": "markdown",
   "id": "12dda477",
   "metadata": {},
   "source": [
    "From the above confusion matrix, the model has correctly predicted 746+711=1457 records and 26+18= 44 records predicted incorrectly. Now let’s check how accurate is the classifier to predict the unseen data using an accuracy score. "
   ]
  },
  {
   "cell_type": "code",
   "execution_count": 14,
   "id": "fdf79cad",
   "metadata": {},
   "outputs": [
    {
     "data": {
      "text/plain": [
       "0.9706862091938707"
      ]
     },
     "execution_count": 14,
     "metadata": {},
     "output_type": "execute_result"
    }
   ],
   "source": [
    "# Accuracy score\n",
    "from sklearn.metrics import accuracy_score\n",
    "accuracy_score(y_test, y_pred)"
   ]
  },
  {
   "cell_type": "markdown",
   "id": "23f2ad31",
   "metadata": {},
   "source": [
    "As we can see the model has nearly 97% accuracy to predict the unseen data. For the final evaluation, let’s obtain the classification report, which will give us scores for various parameters. "
   ]
  },
  {
   "cell_type": "code",
   "execution_count": 15,
   "id": "543b90ea",
   "metadata": {},
   "outputs": [
    {
     "name": "stdout",
     "output_type": "stream",
     "text": [
      "              precision    recall  f1-score   support\n",
      "\n",
      "      Female       0.97      0.98      0.97       764\n",
      "        Male       0.98      0.96      0.97       737\n",
      "\n",
      "    accuracy                           0.97      1501\n",
      "   macro avg       0.97      0.97      0.97      1501\n",
      "weighted avg       0.97      0.97      0.97      1501\n",
      "\n"
     ]
    }
   ],
   "source": [
    "# Classification report\n",
    "from sklearn.metrics import classification_report\n",
    "print(classification_report(y_test, y_pred))"
   ]
  },
  {
   "cell_type": "markdown",
   "id": "87ea5650",
   "metadata": {},
   "source": [
    "As we can see the model has been well evaluated on all the parameters and given satisfactory scores across all the evaluation parameters.\n",
    "\n",
    "So this is how we can use the AdaBoost algorithm in a classification problem where it can predict the class labels more accurately. "
   ]
  }
 ],
 "metadata": {
  "kernelspec": {
   "display_name": "Python 3 (ipykernel)",
   "language": "python",
   "name": "python3"
  },
  "language_info": {
   "codemirror_mode": {
    "name": "ipython",
    "version": 3
   },
   "file_extension": ".py",
   "mimetype": "text/x-python",
   "name": "python",
   "nbconvert_exporter": "python",
   "pygments_lexer": "ipython3",
   "version": "3.9.12"
  }
 },
 "nbformat": 4,
 "nbformat_minor": 5
}
